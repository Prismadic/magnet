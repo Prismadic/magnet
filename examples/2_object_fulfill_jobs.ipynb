{
 "cells": [
  {
   "cell_type": "code",
   "execution_count": null,
   "metadata": {},
   "outputs": [],
   "source": [
    "from magnet.base import Magnet\n",
    "\n",
    "config = {\n",
    "    \"host\": \"localhost\",\n",
    "    \"credentials\": None,\n",
    "    \"domain\": None,\n",
    "    \"stream_name\": \"my_stream\",\n",
    "    \"category\": \"my_category\",\n",
    "    \"kv_name\": \"my_kv\",\n",
    "    \"session\": \"my_session\",\n",
    "    \"os_name\": \"my_object_store\",\n",
    "    \"index\": {\n",
    "        \"milvus_uri\": \"127.0.0.1\",\n",
    "        \"milvus_port\": 19530,\n",
    "        \"milvus_user\": \"test\",\n",
    "        \"milvus_password\": \"test\",\n",
    "        \"dimension\": 1024,\n",
    "        \"model\": \"BAAI/bge-large-en-v1.5\",\n",
    "        \"name\": \"test\",\n",
    "        \"options\": {\n",
    "            'metric_type': 'COSINE',\n",
    "            'index_type':'HNSW',\n",
    "            'params': {\n",
    "                \"efConstruction\": 40\n",
    "                , \"M\": 48\n",
    "            }\n",
    "        }\n",
    "    }\n",
    "}\n",
    "\n",
    "magnet = Magnet(config)\n",
    "await magnet.align()"
   ]
  },
  {
   "cell_type": "code",
   "execution_count": null,
   "metadata": {},
   "outputs": [],
   "source": [
    "from magnet.ic.field import Resonator, Charge\n",
    "from magnet.utils.data_classes import Payload\n",
    "\n",
    "from tractor_beam.utils.file_handlers import PDFProcessor\n",
    "\n",
    "import json\n",
    "\n",
    "reso, field = Resonator(magnet), Charge(magnet)\n",
    "processor = PDFProcessor()\n",
    "models = processor.load_models()\n",
    "\n",
    "await reso.on(obj=True)\n",
    "\n",
    "async def handle_jobs(payload, msg):\n",
    "    msg['_isClaimed'] = True\n",
    "    await magnet.kv.update(msg['_id'], json.dumps(msg).encode('utf-8'), payload.revision)\n",
    "    objects = await magnet.os.list()\n",
    "    for obj in objects:\n",
    "        if obj.name == msg['_id']:\n",
    "            await reso.download(obj)\n",
    "            file = await processor.export_to_markdown(f\"./{obj.name}.{obj.headers['ext']}\", f\"./\", obj.name, models)\n",
    "            with open(f\"{file}/{file.split('/')[-1]}.md\", \"r\") as md:\n",
    "                content = md.read()\n",
    "                await field.pulse(Payload(content, file.split('/')[-1]), v=True)\n",
    "\n",
    "worker = await reso.worker(cb=handle_jobs)"
   ]
  }
 ],
 "metadata": {
  "language_info": {
   "name": "python"
  }
 },
 "nbformat": 4,
 "nbformat_minor": 2
}
