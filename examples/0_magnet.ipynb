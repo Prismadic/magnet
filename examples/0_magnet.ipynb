{
 "cells": [
  {
   "cell_type": "code",
   "execution_count": 1,
   "metadata": {},
   "outputs": [
    {
     "name": "stdout",
     "output_type": "stream",
     "text": [
      "\u001b[92m🌊 SUCCESS: containerization engine connected\u001b[0m\n",
      "\u001b[96m☕️ WAIT: <Container: 27f20e0d3448>\u001b[0m\n",
      "\u001b[96m☕️ WAIT: magnet-embedded-nats container progressing with id 27f20e0d34480c799e2dd0762b1e383bc0633365e5c01a5cc8ae86f076ad3883\u001b[0m\n",
      "\u001b[94mℹ️ INFO: nats logs\u001b[0m\n",
      "\u001b[33m 📊 ⣽: [1] 2024/03/13 15:13:00.411527 \u001b[0m\n",
      "\u001b[95m 🏁 ⣾:  Starting nats-server\n",
      "[1] 2024/03/13 15:13:00.411607 \u001b[0m\n",
      "\u001b[34m 💙 ⣯:    Version:  2.10.12\n",
      "[1] 2024/03/13 15:13:00.411608 \u001b[0m\n",
      "\u001b[95m 💚 ⡿:    Git:      [121169ea]\n",
      "[1] 2024/03/13 15:13:00.411609 \u001b[0m\n",
      "\u001b[92m 🧮 ⢿:    Name:     NDKBXN7NLCYKB5AH6Q6IZZUXYKXBP6FFCNZWZWTDDCMZATZPITIEL32N\n",
      "[1] 2024/03/13 15:13:00.411613 \u001b[0m\n",
      "\u001b[93m 🐈 ⣯:    Node:     fhL5pDzE\n",
      "[1] 2024/03/13 15:13:00.411614 \u001b[0m\n",
      "\u001b[34m 🧠 ⣷:    ID:       NDKBXN7NLCYKB5AH6Q6IZZUXYKXBP6FFCNZWZWTDDCMZATZPITIEL32N\n",
      "[1] 2024/03/13 15:13:00.411796 \u001b[0m\n",
      "\u001b[94m 🤩 ⣽:  Starting JetStream\n",
      "[1] 2024/03/13 15:13:00.415358 \u001b[0m\n",
      "\u001b[34m 💜 ⣟:      _ ___ _____ ___ _____ ___ ___   _   __  __\n",
      "[1] 2024/03/13 15:13:00.415376 \u001b[0m\n",
      "\u001b[91m 🧡 ⣷:   _ | | __|_   _/ __|_   _| _ \\ __| /_\\ |  \\/  |\n",
      "[1] 2024/03/13 15:13:00.415377 \u001b[0m\n",
      "\u001b[34m 🧠 ⢿:  | || | _|  | | \\__ \\ | | |   / _| / _ \\| |\\/| |\n",
      "[1] 2024/03/13 15:13:00.415378 \u001b[0m\n",
      "\u001b[31m 🐈 ⣻:   \\__/|___| |_| |___/ |_| |_|_\\___/_/ \\_\\_|  |_|\n",
      "[1] 2024/03/13 15:13:00.415378 \u001b[0m\n",
      "\u001b[34m 🍤 ⣽:  \n",
      "[1] 2024/03/13 15:13:00.415379 \u001b[0m\n",
      "\u001b[33m 🤩 ⣾:           https://docs.nats.io/jetstream\n",
      "[1] 2024/03/13 15:13:00.415380 \u001b[0m\n",
      "\u001b[96m 💛 ⣯:  \n",
      "[1] 2024/03/13 15:13:00.415381 \u001b[0m\n",
      "\u001b[94m 🌊 ⢿:  ---------------- JETSTREAM ----------------\n",
      "[1] 2024/03/13 15:13:00.415383 \u001b[0m\n",
      "\u001b[36m 🍤 ⣽:    Max Memory:      11.70 GB\n",
      "[1] 2024/03/13 15:13:00.415383 \u001b[0m\n",
      "\u001b[93m ❤️ ⡿:    Max Storage:     12.16 GB\n",
      "[1] 2024/03/13 15:13:00.415384 \u001b[0m\n",
      "\u001b[94m 🐈 ⣽:    Store Directory: \"/tmp/nats/jetstream\"\n",
      "[1] 2024/03/13 15:13:00.415385 \u001b[0m\n",
      "\u001b[94m 🧠 ⢿:  -------------------------------------------\n",
      "[1] 2024/03/13 15:13:00.415940 \u001b[0m\n",
      "\u001b[94m 💜 ⣾:  Listening for client connections on 0.0.0.0:4222\n",
      "[1] 2024/03/13 15:13:00.416200 \u001b[0m\n",
      "\u001b[34m 💜 ⣽:  Server is ready\n",
      "\u001b[0m\n",
      "\u001b[92m🌊 SUCCESS: milvus server started\u001b[0m\n",
      "\u001b[96m☕️ WAIT: creating magnet with embedded cluster\u001b[0m\n",
      "\u001b[93m🚨 WARN: Stream my_stream not found, creating\u001b[0m\n",
      "\u001b[92m🌊 SUCCESS: created `my_stream` with default category `magnet`\u001b[0m\n",
      "\u001b[93m🚨 WARN: KV bucket my_kv not found, creating\u001b[0m\n",
      "\u001b[92m🌊 SUCCESS: created `my_kv`\u001b[0m\n",
      "\u001b[93m🚨 WARN: Object Store my_kv not found, creating\u001b[0m\n",
      "\u001b[92m🌊 SUCCESS: created `my_object_store`\u001b[0m\n",
      "\u001b[92m🌊 SUCCESS: 🧲 connected to \n",
      "💎 MagnetConfig(host='127.0.0.1', domain=None, credentials=None, session='my_session', name='my_stream', category='my_category', kv_name='my_kv', os_name='my_object_store', index=IndexConfig(milvus_uri='127.0.0.1', milvus_port=19530, milvus_user='test', milvus_password='test', dimension=1024, model='BAAI/bge-large-en-v1.5', name='test', options={'metric_type': 'COSINE', 'index_type': 'HNSW', 'params': {'efConstruction': 40, 'M': 48}})) \u001b[0m\n",
      "\u001b[92m🌊 SUCCESS: 🧲 connected to \n",
      "💎 MagnetConfig(host='127.0.0.1', domain=None, credentials=None, session='my_session', name='my_stream', category='my_category', kv_name='my_kv', os_name='my_object_store', index=IndexConfig(milvus_uri='127.0.0.1', milvus_port=19530, milvus_user='test', milvus_password='test', dimension=1024, model='BAAI/bge-large-en-v1.5', name='test', options={'metric_type': 'COSINE', 'index_type': 'HNSW', 'params': {'efConstruction': 40, 'M': 48}})) \u001b[0m\n"
     ]
    },
    {
     "data": {
      "text/plain": [
       "[<nats.js.client.JetStreamContext at 0x165a42690>,\n",
       " <nats.js.kv.KeyValue at 0x165a42450>,\n",
       " <nats.js.object_store.ObjectStore at 0x165a42190>]"
      ]
     },
     "execution_count": 1,
     "metadata": {},
     "output_type": "execute_result"
    }
   ],
   "source": [
    "from magnet.base import Magnet\n",
    "from magnet.base import EmbeddedMagnet\n",
    "\n",
    "cluster = EmbeddedMagnet()\n",
    "cluster.start()\n",
    "magnet = cluster.create_magnet()\n",
    "await magnet.align()\n",
    "\n",
    "config = {\n",
    "    \"host\": \"127.0.0.1\",\n",
    "    \"credentials\": None,\n",
    "    \"domain\": None,\n",
    "    \"name\": \"my_stream\",\n",
    "    \"category\": \"my_category\",\n",
    "    \"kv_name\": \"my_kv\",\n",
    "    \"session\": \"my_session\",\n",
    "    \"os_name\": \"my_object_store\",\n",
    "    \"index\": {\n",
    "        \"milvus_uri\": \"127.0.0.1\",\n",
    "        \"milvus_port\": 19530,\n",
    "        \"milvus_user\": \"test\",\n",
    "        \"milvus_password\": \"test\",\n",
    "        \"dimension\": 1024,\n",
    "        \"model\": \"BAAI/bge-large-en-v1.5\",\n",
    "        \"name\": \"test\",\n",
    "        \"options\": {\n",
    "            'metric_type': 'COSINE',\n",
    "            'index_type':'HNSW',\n",
    "            'params': {\n",
    "                \"efConstruction\": 40\n",
    "                , \"M\": 48\n",
    "            }\n",
    "        }\n",
    "    }\n",
    "}\n",
    "\n",
    "magnet = Magnet(config)\n",
    "await magnet.align()"
   ]
  },
  {
   "cell_type": "code",
   "execution_count": 2,
   "metadata": {},
   "outputs": [
    {
     "name": "stdout",
     "output_type": "stream",
     "text": [
      "\u001b[92m🌊 SUCCESS: created [my_category] on\n",
      "🛰️ stream: my_stream\u001b[0m\n",
      "\u001b[92m🌊 SUCCESS: ready [my_category] on\n",
      "🛰️ stream: my_stream\u001b[0m\n"
     ]
    }
   ],
   "source": [
    "from magnet.ic.field import Charge\n",
    "\n",
    "field = Charge(magnet)\n",
    "await field.on()"
   ]
  },
  {
   "cell_type": "code",
   "execution_count": 3,
   "metadata": {},
   "outputs": [
    {
     "name": "stdout",
     "output_type": "stream",
     "text": [
      "\u001b[91m☠️ FATAL: invalid object, more info:\n",
      "asdict() should be called on dataclass instances in [Payload, GeneratedPayload, EmbeddingPayload, JobParams]\u001b[0m\n",
      "\u001b[91m☠️ FATAL: invalid object, more info:\n",
      "asdict() should be called on dataclass instances in [Payload, GeneratedPayload, EmbeddingPayload, JobParams]\u001b[0m\n"
     ]
    }
   ],
   "source": [
    "# you will get errors without abiding by schemas\n",
    "await field.pulse(\"Hello, World!\")\n",
    "await field.pulse({\"Hello\": \"World!\"})"
   ]
  },
  {
   "cell_type": "code",
   "execution_count": 4,
   "metadata": {},
   "outputs": [
    {
     "name": "stdout",
     "output_type": "stream",
     "text": [
      "\u001b[92m🌊 SUCCESS: pulsed to my_category on my_stream\u001b[0m\n",
      "\u001b[92m🌊 SUCCESS: pulsed to my_category on my_stream\u001b[0m\n",
      "2024-03-13 15:13:07.805490+00:00 2024-03-13 15:13:08.813173+00:00 2024-03-13 15:13:09.816282+00:00\n"
     ]
    },
    {
     "data": {
      "text/plain": [
       "(PubAck(stream='my_stream', seq=1, domain=None, duplicate=None),\n",
       " PubAck(stream='my_stream', seq=2, domain=None, duplicate=None),\n",
       " PubAck(stream='my_stream', seq=2, domain=None, duplicate=True))"
      ]
     },
     "execution_count": 4,
     "metadata": {},
     "output_type": "execute_result"
    }
   ],
   "source": [
    "# simple data pipelines with predictable outcomes\n",
    "from magnet.utils.data_classes import Payload\n",
    "from time import sleep\n",
    "no_log = await field.pulse(Payload(\"Hello\", \"World!\"))\n",
    "sleep(1)\n",
    "msg = await field.pulse(Payload(\"Hello\", \"World again!\"), True)\n",
    "sleep(1)\n",
    "duplicate = await field.pulse(Payload(\"Hello\", \"World again!\"), True) # will show as duplicate\n",
    "print(no_log.ts, msg.ts, duplicate.ts)\n",
    "(no_log, msg, duplicate)"
   ]
  },
  {
   "cell_type": "code",
   "execution_count": 5,
   "metadata": {},
   "outputs": [
    {
     "name": "stdout",
     "output_type": "stream",
     "text": [
      "\u001b[93m🚨 WARN: CUDA is not available on this machine.\u001b[0m\n",
      "\u001b[94mℹ️ INFO: loading into cpu\u001b[0m\n",
      "\u001b[96m☕️ WAIT: connecting to 127.0.0.1\u001b[0m\n",
      "\u001b[92m🌊 SUCCESS: connected successfully to 127.0.0.1\u001b[0m\n",
      "\u001b[92m🌊 SUCCESS: test created\u001b[0m\n",
      "\u001b[96m☕️ WAIT: loading test into memory, may take time\u001b[0m\n"
     ]
    }
   ],
   "source": [
    "from magnet.ize.memory import Memory\n",
    "mem = Memory(magnet)\n",
    "await mem.on(create=True)\n"
   ]
  },
  {
   "cell_type": "code",
   "execution_count": 6,
   "metadata": {},
   "outputs": [
    {
     "name": "stdout",
     "output_type": "stream",
     "text": [
      "\u001b[93m🚨 WARN: CUDA is not available on this machine.\u001b[0m\n",
      "\u001b[94mℹ️ INFO: loading into cpu\u001b[0m\n",
      "\u001b[96m☕️ WAIT: connecting to 127.0.0.1\u001b[0m\n",
      "\u001b[92m🌊 SUCCESS: connected successfully to 127.0.0.1\u001b[0m\n",
      "\u001b[96m☕️ WAIT: loading test into memory, may take time\u001b[0m\n",
      "\u001b[96m☕️ WAIT: connecting to 127.0.0.1\u001b[0m\n",
      "\u001b[94mℹ️ INFO: joined worker queue: my_session as unifi\u001b[0m\n",
      "\u001b[94mℹ️ INFO: consuming delta from [my_category] on\n",
      "🛰️ stream: my_stream\n",
      "🧲 session: \"my_session\"\u001b[0m\n",
      "\u001b[94mℹ️ INFO: encoding payload\n",
      "Payload(text='Hello', document='World!')\u001b[0m\n",
      "\u001b[94mℹ️ INFO: indexing payload\u001b[0m\n",
      "\u001b[92m🌊 SUCCESS: embedding indexed\n",
      "Payload(text='Hello', document='World!')\u001b[0m\n",
      "\u001b[94mℹ️ INFO: encoding payload\n",
      "Payload(text='Hello', document='World again!')\u001b[0m\n",
      "\u001b[94mℹ️ INFO: indexing payload\u001b[0m\n",
      "\u001b[92m🌊 SUCCESS: embedding indexed\n",
      "Payload(text='Hello', document='World again!')\u001b[0m\n",
      "\u001b[93m🚨 WARN: no more data\u001b[0m\n"
     ]
    }
   ],
   "source": [
    "await mem.on()\n",
    "\n",
    "from magnet.ic.field import Resonator\n",
    "\n",
    "reso = Resonator(magnet)\n",
    "\n",
    "async def handle_payload(payload, msg):\n",
    "    await mem.index(payload, msg, v=True)\n",
    "\n",
    "await reso.on()\n",
    "await reso.listen(cb=handle_payload)"
   ]
  },
  {
   "cell_type": "code",
   "execution_count": 7,
   "metadata": {},
   "outputs": [
    {
     "name": "stdout",
     "output_type": "stream",
     "text": [
      "\u001b[93m🚨 WARN: disconnected from 127.0.0.1\u001b[0m\n",
      "\u001b[96m☕️ WAIT: stopping magnet-embedded-nats\u001b[0m\n",
      "\u001b[92m🌊 SUCCESS: magnet-embedded-nats stopped\u001b[0m\n",
      "\u001b[94mℹ️ INFO: removing magnet-embedded-nats\u001b[0m\n",
      "\u001b[92m🌊 SUCCESS: embedded nats removed\u001b[0m\n",
      "\u001b[92m🌊 SUCCESS: embedded milvus server stopped\u001b[0m\n",
      "\u001b[93m🚨 WARN: container engine pruned\u001b[0m\n",
      "\u001b[92m🌊 SUCCESS: embedded cluster cleaned up\u001b[0m\n"
     ]
    }
   ],
   "source": [
    "mem.db.list_indices()\n",
    "\n",
    "await mem.disconnect()\n",
    "cluster.stop()\n",
    "cluster.cleanup()"
   ]
  }
 ],
 "metadata": {
  "kernelspec": {
   "display_name": "Python 3",
   "language": "python",
   "name": "python3"
  },
  "language_info": {
   "codemirror_mode": {
    "name": "ipython",
    "version": 3
   },
   "file_extension": ".py",
   "mimetype": "text/x-python",
   "name": "python",
   "nbconvert_exporter": "python",
   "pygments_lexer": "ipython3",
   "version": "3.11.9"
  }
 },
 "nbformat": 4,
 "nbformat_minor": 2
}
