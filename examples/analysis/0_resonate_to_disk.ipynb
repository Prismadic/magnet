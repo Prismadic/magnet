{
 "cells": [
  {
   "cell_type": "code",
   "execution_count": null,
   "metadata": {},
   "outputs": [],
   "source": [
    "from magnet.ic import field\n",
    "import json\n",
    "reso = field.Resonator(\"\")\n",
    "appended = []\n",
    "async def handle_payload(payload, msg):\n",
    "    appended.append(json.loads(payload.decode('utf-8')))\n",
    "    await msg.ack()\n",
    "await reso.on(category=\"openai_gpt35_infodensity_mistral\", session=\"exporter\", stream=\"classification\")\n",
    "await reso.listen(cb=handle_payload, generic=True)\n",
    "json.dump(appended, open(\"openai_gpt35_infodensity_mistral.json\", \"w\"))"
   ]
  }
 ],
 "metadata": {
  "language_info": {
   "name": "python"
  }
 },
 "nbformat": 4,
 "nbformat_minor": 2
}
