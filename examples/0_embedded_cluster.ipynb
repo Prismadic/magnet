{
 "cells": [
  {
   "cell_type": "code",
   "execution_count": 1,
   "metadata": {},
   "outputs": [
    {
     "name": "stdout",
     "output_type": "stream",
     "text": [
      "\u001b[92m🌊 SUCCESS: containerization engine connected\u001b[0m\n",
      "\u001b[96m☕️ WAIT: <Container: 34acb76d0a68>\u001b[0m\n",
      "\u001b[96m☕️ WAIT: magnet-embedded-nats container progressing with id 34acb76d0a68d88d572065b5cf383fc53b0734833889bf1e5824e5a29bd3181d\u001b[0m\n",
      "\u001b[94mℹ️ INFO: nats logs\u001b[0m\n",
      "\u001b[32m 💙 ⣻: [1] 2024/03/13 14:56:46.113477 \u001b[0m\n",
      "\u001b[91m ❤️ ⣻:  Starting nats-server\n",
      "[1] 2024/03/13 14:56:46.113568 \u001b[0m\n",
      "\u001b[95m 🐈 ⣯:    Version:  2.10.12\n",
      "[1] 2024/03/13 14:56:46.113570 \u001b[0m\n",
      "\u001b[32m 🌊 ⣾:    Git:      [121169ea]\n",
      "[1] 2024/03/13 14:56:46.113570 \u001b[0m\n",
      "\u001b[32m 🐈 ⣟:    Name:     NBPRUZANXSKOX73HJ5OL7PA64G7SMMJHUQOXELUWM237IMNJDGAKVH6F\n",
      "[1] 2024/03/13 14:56:46.113574 \u001b[0m\n",
      "\u001b[92m 🌈 ⣽:    Node:     ZnMsDKUe\n",
      "[1] 2024/03/13 14:56:46.113575 \u001b[0m\n",
      "\u001b[31m 🧮 ⣻:    ID:       NBPRUZANXSKOX73HJ5OL7PA64G7SMMJHUQOXELUWM237IMNJDGAKVH6F\n",
      "[1] 2024/03/13 14:56:46.113799 \u001b[0m\n",
      "\u001b[96m 💚 ⢿:  Starting JetStream\n",
      "[1] 2024/03/13 14:56:46.114184 \u001b[0m\n",
      "\u001b[91m 🥳 ⡿:      _ ___ _____ ___ _____ ___ ___   _   __  __\n",
      "[1] 2024/03/13 14:56:46.114195 \u001b[0m\n",
      "\u001b[94m 📊 ⣻:   _ | | __|_   _/ __|_   _| _ \\ __| /_\\ |  \\/  |\n",
      "[1] 2024/03/13 14:56:46.114196 \u001b[0m\n",
      "\u001b[31m 🐈 ⡿:  | || | _|  | | \\__ \\ | | |   / _| / _ \\| |\\/| |\n",
      "[1] 2024/03/13 14:56:46.114196 \u001b[0m\n",
      "\u001b[31m 🎉 ⣟:   \\__/|___| |_| |___/ |_| |_|_\\___/_/ \\_\\_|  |_|\n",
      "[1] 2024/03/13 14:56:46.114197 \u001b[0m\n",
      "\u001b[93m 💙 ⣻:  \n",
      "[1] 2024/03/13 14:56:46.114198 \u001b[0m\n",
      "\u001b[36m 💜 ⣟:           https://docs.nats.io/jetstream\n",
      "[1] 2024/03/13 14:56:46.114198 \u001b[0m\n",
      "\u001b[93m ⭐️ ⣻:  \n",
      "[1] 2024/03/13 14:56:46.114199 \u001b[0m\n",
      "\u001b[96m 💙 ⣻:  ---------------- JETSTREAM ----------------\n",
      "[1] 2024/03/13 14:56:46.114201 \u001b[0m\n",
      "\u001b[33m 🏁 ⢿:    Max Memory:      11.70 GB\n",
      "[1] 2024/03/13 14:56:46.114201 \u001b[0m\n",
      "\u001b[93m 🧮 ⡿:    Max Storage:     12.16 GB\n",
      "[1] 2024/03/13 14:56:46.114202 \u001b[0m\n",
      "\u001b[94m 🌊 ⣟:    Store Directory: \"/tmp/nats/jetstream\"\n",
      "[1] 2024/03/13 14:56:46.114203 \u001b[0m\n",
      "\u001b[33m ⭐️ ⣾:  -------------------------------------------\n",
      "[1] 2024/03/13 14:56:46.114497 \u001b[0m\n",
      "\u001b[35m ⭐️ ⣷:  Listening for client connections on 0.0.0.0:4222\n",
      "[1] 2024/03/13 14:56:46.114685 \u001b[0m\n",
      "\u001b[93m 🧠 ⣻:  Server is ready\n",
      "\u001b[0m\n",
      "\u001b[92m🌊 SUCCESS: milvus server started\u001b[0m\n",
      "\u001b[96m☕️ WAIT: creating prism with embedded cluster\u001b[0m\n",
      "\u001b[93m🚨 WARN: Stream my_stream not found, creating\u001b[0m\n",
      "\u001b[92m🌊 SUCCESS: created `my_stream` with default category `magnet`\u001b[0m\n",
      "\u001b[93m🚨 WARN: KV bucket my_kv not found, creating\u001b[0m\n",
      "\u001b[92m🌊 SUCCESS: created `my_kv`\u001b[0m\n",
      "\u001b[93m🚨 WARN: Object Store my_kv not found, creating\u001b[0m\n",
      "\u001b[92m🌊 SUCCESS: created `my_object_store`\u001b[0m\n",
      "\u001b[92m🌊 SUCCESS: 🧲 connected to \n",
      "💎 PrismConfig(host='127.0.0.1', domain=None, credentials=None, session='my_session', name='my_stream', category='my_category', kv_name='my_kv', os_name='my_object_store', index=IndexConfig(milvus_uri='127.0.0.1', milvus_port=19530, milvus_user='test', milvus_password='test', dimension=1024, model='BAAI/bge-large-en-v1.5', name='test', options={'metric_type': 'COSINE', 'index_type': 'HNSW', 'params': {'efConstruction': 40, 'M': 48}})) \u001b[0m\n",
      "\u001b[96m☕️ WAIT: stopping magnet-embedded-nats\u001b[0m\n",
      "\u001b[92m🌊 SUCCESS: magnet-embedded-nats stopped\u001b[0m\n",
      "\u001b[94mℹ️ INFO: removing magnet-embedded-nats\u001b[0m\n",
      "\u001b[92m🌊 SUCCESS: embedded nats removed\u001b[0m\n",
      "\u001b[92m🌊 SUCCESS: embedded milvus server stopped\u001b[0m\n",
      "\u001b[93m🚨 WARN: container engine pruned\u001b[0m\n",
      "\u001b[92m🌊 SUCCESS: embedded cluster cleaned up\u001b[0m\n"
     ]
    }
   ],
   "source": [
    "from magnet.base import EmbeddedCluster\n",
    "cluster = EmbeddedCluster()\n",
    "cluster.start()\n",
    "prism = cluster.create_prism()\n",
    "await prism.align()\n",
    "cluster.stop()\n",
    "cluster.cleanup()"
   ]
  },
  {
   "cell_type": "code",
   "execution_count": null,
   "metadata": {},
   "outputs": [],
   "source": []
  }
 ],
 "metadata": {
  "kernelspec": {
   "display_name": "Python 3",
   "language": "python",
   "name": "python3"
  },
  "language_info": {
   "codemirror_mode": {
    "name": "ipython",
    "version": 3
   },
   "file_extension": ".py",
   "mimetype": "text/x-python",
   "name": "python",
   "nbconvert_exporter": "python",
   "pygments_lexer": "ipython3",
   "version": "3.11.8"
  }
 },
 "nbformat": 4,
 "nbformat_minor": 2
}
