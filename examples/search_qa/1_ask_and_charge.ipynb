{
 "cells": [
  {
   "cell_type": "code",
   "execution_count": null,
   "metadata": {},
   "outputs": [],
   "source": [
    "from magnet.ize import memory\n",
    "from magnet.ron import llm\n",
    "from magnet.ic import field\n",
    "\n",
    "field = field.Charge(\"my-user:T0pS3cr3t@192.168.2.69\") # your NATS cluster hostname & basic auth\n",
    "await field.on(stream=\"generations\", category=\"nlp_chunk_bge_large_en\", create=True)\n",
    "\n",
    "config = {\n",
    "    \"MILVUS_URI\": \"192.168.2.69\"\n",
    "    , \"DIMENSION\": 1024\n",
    "    , \"MODEL\": \"BAAI/bge-large-en-v1.5\"\n",
    "    , \"INDEX\": \"bge_large_deduped\"\n",
    "    , \"INDEX_PARAMS\": {\n",
    "        'metric_type': 'COSINE',\n",
    "        'index_type':'HNSW',\n",
    "        'params': {\n",
    "            \"efConstruction\": 40\n",
    "            , \"ef\": 32768\n",
    "            , \"M\": 48\n",
    "        },\n",
    "    }\n",
    "}\n",
    "\n",
    "gen = llm.Generate(\n",
    "    hf_token='hf_'\n",
    "    , field=field\n",
    ")\n",
    "async def handle_search(q, docs):\n",
    "    [print(doc['document']) for doc in docs]\n",
    "    [print(doc['text']) for doc in docs]\n",
    "    [print(doc['distance']) for doc in docs]\n",
    "    return await gen.ask(\n",
    "        q = q\n",
    "        , docs = docs\n",
    "    )\n",
    "\n",
    "index = memory.Embedder(config)\n",
    "q = 'Tell me about various AI initiatives'"
   ]
  },
  {
   "cell_type": "code",
   "execution_count": null,
   "metadata": {},
   "outputs": [],
   "source": [
    "from magnet.utils.markdown import m_print\n",
    "\n",
    "print(f\"searching from {index.info().num_entities} chunks\")\n",
    "results = index.search(q, limit=10, cb=handle_search)\n",
    "results = await results\n",
    "m_print(results)\n",
    "index.disconnect()"
   ]
  },
  {
   "cell_type": "code",
   "execution_count": null,
   "metadata": {},
   "outputs": [],
   "source": [
    "await charge.off()"
   ]
  }
 ],
 "metadata": {
  "language_info": {
   "name": "python"
  }
 },
 "nbformat": 4,
 "nbformat_minor": 2
}
