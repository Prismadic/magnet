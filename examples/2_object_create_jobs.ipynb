{
 "cells": [
  {
   "cell_type": "code",
   "execution_count": null,
   "metadata": {},
   "outputs": [],
   "source": [
    "from magnet.base import Magnet\n",
    "\n",
    "config = {\n",
    "    \"host\": \"localhost\",\n",
    "    \"credentials\": None,\n",
    "    \"domain\": None,\n",
    "    \"stream_name\": \"my_stream\",\n",
    "    \"category\": \"my_category\",\n",
    "    \"kv_name\": \"my_kv\",\n",
    "    \"session\": \"my_session\",\n",
    "    \"os_name\": \"my_object_store\",\n",
    "    \"index\": {\n",
    "        \"milvus_uri\": \"127.0.0.1\",\n",
    "        \"milvus_port\": 19530,\n",
    "        \"milvus_user\": \"test\",\n",
    "        \"milvus_password\": \"test\",\n",
    "        \"dimension\": 1024,\n",
    "        \"model\": \"BAAI/bge-large-en-v1.5\",\n",
    "        \"name\": \"test\",\n",
    "        \"options\": {\n",
    "            'metric_type': 'COSINE',\n",
    "            'index_type':'HNSW',\n",
    "            'params': {\n",
    "                \"efConstruction\": 40\n",
    "                , \"M\": 48\n",
    "            }\n",
    "        }\n",
    "    }\n",
    "}\n",
    "\n",
    "magnet = Magnet(config)\n",
    "await magnet.align()"
   ]
  },
  {
   "cell_type": "code",
   "execution_count": null,
   "metadata": {},
   "outputs": [],
   "source": [
    "from magnet.ic.field import Charge\n",
    "\n",
    "field = Charge(magnet)\n",
    "await field.on()"
   ]
  },
  {
   "cell_type": "code",
   "execution_count": null,
   "metadata": {},
   "outputs": [],
   "source": [
    "# simple data pipelines with predictable outcomes\n",
    "from magnet.utils.data_classes import FilePayload\n",
    "import base64\n",
    "import os\n",
    "\n",
    "for file in os.listdir('./FinPDF/'):\n",
    "    if file.endswith('.pdf'):\n",
    "        with open(f\"./FinPDF/{file}\", \"rb\") as fh:\n",
    "            content = fh.read()\n",
    "            encoded_content = base64.b64encode(content).decode('utf-8')\n",
    "            await field.pulse(\n",
    "                FilePayload(encoded_content, file.split('/')[-1])\n",
    "                , create_job=True\n",
    "                , v=True\n",
    "            )"
   ]
  }
 ],
 "metadata": {
  "language_info": {
   "name": "python"
  }
 },
 "nbformat": 4,
 "nbformat_minor": 2
}
