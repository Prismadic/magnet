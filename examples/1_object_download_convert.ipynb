{
 "cells": [
  {
   "cell_type": "code",
   "execution_count": 1,
   "metadata": {},
   "outputs": [
    {
     "name": "stdout",
     "output_type": "stream",
     "text": [
      "\u001b[92m🌊 SUCCESS: containerization engine connected\u001b[0m\n",
      "\u001b[91m☠️ FATAL: 409 Client Error for http+docker://localhost/v1.44/containers/create?name=magnet-embedded-nats: Conflict (\"Conflict. The container name \"/magnet-embedded-nats\" is already in use by container \"c1f27b2e634e61e87aeedfd55711ef678e2c3f0bc9cd04fa8ead232fe418f126\". You have to remove (or rename) that container to be able to reuse that name.\")\u001b[0m\n",
      "\u001b[96m☕️ WAIT: creating magnet with embedded cluster\u001b[0m\n",
      "\u001b[92m🌊 SUCCESS: 🧲 connected to \n",
      "💎 nats://127.0.0.1:4222 \u001b[0m\n",
      "\u001b[94mℹ️ INFO: 🧲 initialized client \u001b[0m\n",
      "\u001b[92m🌊 SUCCESS: 🧲 connected to \n",
      "💎 MagnetConfig(host='127.0.0.1', domain=None, credentials=None, session='my_session', stream_name='my_stream', category='my_category', kv_name='my_kv', os_name='my_object_store', index=IndexConfig(milvus_uri='127.0.0.1', milvus_port=19530, milvus_user='test', milvus_password='test', dimension=1024, model='BAAI/bge-large-en-v1.5', name='test', options={'metric_type': 'COSINE', 'index_type': 'HNSW', 'params': {'efConstruction': 40, 'M': 48}})) \u001b[0m\n"
     ]
    },
    {
     "data": {
      "text/plain": [
       "[<nats.js.client.JetStreamContext at 0x13ddf9590>,\n",
       " <nats.js.kv.KeyValue at 0x1623fd4d0>,\n",
       " <nats.js.object_store.ObjectStore at 0x156fc9950>]"
      ]
     },
     "execution_count": 1,
     "metadata": {},
     "output_type": "execute_result"
    }
   ],
   "source": [
    "from magnet.base import Magnet\n",
    "from magnet.base import EmbeddedMagnet\n",
    "\n",
    "cluster = EmbeddedMagnet()\n",
    "cluster.start()\n",
    "magnet = cluster.create_magnet()\n",
    "# await magnet.align()\n",
    "\n",
    "config = {\n",
    "    \"host\": \"localhost\",\n",
    "    \"credentials\": None,\n",
    "    \"domain\": None,\n",
    "    \"stream_name\": \"my_stream\",\n",
    "    \"category\": \"my_category\",\n",
    "    \"kv_name\": \"my_kv\",\n",
    "    \"session\": \"my_session\",\n",
    "    \"os_name\": \"my_object_store\",\n",
    "    \"index\": {\n",
    "        \"milvus_uri\": \"127.0.0.1\",\n",
    "        \"milvus_port\": 19530,\n",
    "        \"milvus_user\": \"test\",\n",
    "        \"milvus_password\": \"test\",\n",
    "        \"dimension\": 1024,\n",
    "        \"model\": \"BAAI/bge-large-en-v1.5\",\n",
    "        \"name\": \"test\",\n",
    "        \"options\": {\n",
    "            'metric_type': 'COSINE',\n",
    "            'index_type':'HNSW',\n",
    "            'params': {\n",
    "                \"efConstruction\": 40\n",
    "                , \"M\": 48\n",
    "            }\n",
    "        }\n",
    "    }\n",
    "}\n",
    "\n",
    "# magnet = Magnet(config)\n",
    "await magnet.align()"
   ]
  },
  {
   "cell_type": "code",
   "execution_count": 2,
   "metadata": {},
   "outputs": [
    {
     "name": "stdout",
     "output_type": "stream",
     "text": [
      "\u001b[92m🌊 SUCCESS: ready [my_category] on\n",
      "🛰️ stream: my_stream\u001b[0m\n"
     ]
    }
   ],
   "source": [
    "from magnet.ic.field import Charge\n",
    "\n",
    "field = Charge(magnet)\n",
    "await field.on()"
   ]
  },
  {
   "cell_type": "code",
   "execution_count": 3,
   "metadata": {},
   "outputs": [
    {
     "name": "stdout",
     "output_type": "stream",
     "text": [
      "\u001b[92m🌊 SUCCESS: uploaded to NATS object store in bucket my_object_store as d9dcecfcfbf607ee\u001b[0m\n",
      "\u001b[96m☕️ WAIT: connecting to 127.0.0.1\u001b[0m\n",
      "\u001b[94mℹ️ INFO: subscribed to object store: my_object_store as Mac\u001b[0m\n",
      "\u001b[94mℹ️ INFO: consuming objects from [my_object_store] on\n",
      "🛰️ stream: my_stream\n",
      "🧲 session: \"my_session\"\u001b[0m\n",
      "\u001b[92m🌊 SUCCESS: downloaded d9dcecfcfbf607ee from my_object_store\u001b[0m\n"
     ]
    },
    {
     "name": "stderr",
     "output_type": "stream",
     "text": [
      "/opt/homebrew/lib/python3.11/site-packages/huggingface_hub/file_download.py:1132: FutureWarning: `resume_download` is deprecated and will be removed in version 1.0.0. Downloads always resume when possible. If you want to force a new download, use `force_download=True`.\n",
      "  warnings.warn(\n"
     ]
    },
    {
     "name": "stdout",
     "output_type": "stream",
     "text": [
      "Loaded detection model vikp/surya_det2 on device cpu with dtype torch.float32\n",
      "Loaded detection model vikp/surya_layout2 on device cpu with dtype torch.float32\n",
      "Loaded reading order model vikp/surya_order on device mps with dtype torch.float16\n",
      "Loaded recognition model vikp/surya_rec on device mps with dtype torch.float16\n",
      "Loaded texify model to mps with torch.float16 dtype\n"
     ]
    },
    {
     "name": "stderr",
     "output_type": "stream",
     "text": [
      "CoreGraphics PDF has logged an error. Set environment variable \"CG_PDF_VERBOSE\" to learn more.\n",
      "Detecting bboxes: 100%|██████████| 2/2 [00:41<00:00, 20.95s/it]\n",
      "Detecting bboxes: 100%|██████████| 1/1 [00:29<00:00, 29.22s/it]\n",
      "Finding reading order: 100%|██████████| 1/1 [00:04<00:00,  4.72s/it]\n"
     ]
    },
    {
     "name": "stdout",
     "output_type": "stream",
     "text": [
      "\u001b[92m🌊 SUCCESS: pulsed to my_category on my_stream\u001b[0m\n"
     ]
    },
    {
     "ename": "CancelledError",
     "evalue": "",
     "output_type": "error",
     "traceback": [
      "\u001b[0;31m---------------------------------------------------------------------------\u001b[0m",
      "\u001b[0;31mCancelledError\u001b[0m                            Traceback (most recent call last)",
      "Cell \u001b[0;32mIn[3], line 33\u001b[0m\n\u001b[1;32m     29\u001b[0m     \u001b[38;5;28;01mawait\u001b[39;00m payload\u001b[38;5;241m.\u001b[39mdelete(msg\u001b[38;5;241m.\u001b[39mname)\n\u001b[1;32m     31\u001b[0m \u001b[38;5;28;01mawait\u001b[39;00m reso\u001b[38;5;241m.\u001b[39mon(obj\u001b[38;5;241m=\u001b[39m\u001b[38;5;28;01mTrue\u001b[39;00m)\n\u001b[0;32m---> 33\u001b[0m \u001b[38;5;28;01mawait\u001b[39;00m reso\u001b[38;5;241m.\u001b[39mlisten(cb\u001b[38;5;241m=\u001b[39mhandle_payload, v\u001b[38;5;241m=\u001b[39m\u001b[38;5;28;01mTrue\u001b[39;00m)\n",
      "File \u001b[0;32m/opt/homebrew/lib/python3.11/site-packages/llm_magnet-0.2.8-py3.11.egg/magnet/ic/field.py:275\u001b[0m, in \u001b[0;36mResonator.listen\u001b[0;34m(self, cb, job_n, generic, v)\u001b[0m\n\u001b[1;32m    272\u001b[0m     loop\u001b[38;5;241m.\u001b[39mcreate_task(cb(\u001b[38;5;28mself\u001b[39m\u001b[38;5;241m.\u001b[39mobject_store, e))\n\u001b[1;32m    273\u001b[0m     _f(\u001b[38;5;124m\"\u001b[39m\u001b[38;5;124minfo\u001b[39m\u001b[38;5;124m\"\u001b[39m,\n\u001b[1;32m    274\u001b[0m        \u001b[38;5;124mf\u001b[39m\u001b[38;5;124m'\u001b[39m\u001b[38;5;124mconsuming objects from [\u001b[39m\u001b[38;5;132;01m{\u001b[39;00m\u001b[38;5;28mself\u001b[39m\u001b[38;5;241m.\u001b[39mmagnet\u001b[38;5;241m.\u001b[39mconfig\u001b[38;5;241m.\u001b[39mos_name\u001b[38;5;132;01m}\u001b[39;00m\u001b[38;5;124m] on\u001b[39m\u001b[38;5;130;01m\\n\u001b[39;00m\u001b[38;5;124m🛰️ stream: \u001b[39m\u001b[38;5;132;01m{\u001b[39;00m\u001b[38;5;28mself\u001b[39m\u001b[38;5;241m.\u001b[39mmagnet\u001b[38;5;241m.\u001b[39mconfig\u001b[38;5;241m.\u001b[39mstream_name\u001b[38;5;132;01m}\u001b[39;00m\u001b[38;5;130;01m\\n\u001b[39;00m\u001b[38;5;124m🧲 session: \u001b[39m\u001b[38;5;124m\"\u001b[39m\u001b[38;5;132;01m{\u001b[39;00m\u001b[38;5;28mself\u001b[39m\u001b[38;5;241m.\u001b[39mmagnet\u001b[38;5;241m.\u001b[39mconfig\u001b[38;5;241m.\u001b[39msession\u001b[38;5;132;01m}\u001b[39;00m\u001b[38;5;124m\"\u001b[39m\u001b[38;5;124m'\u001b[39m)\n\u001b[0;32m--> 275\u001b[0m     \u001b[38;5;28;01mawait\u001b[39;00m asyncio\u001b[38;5;241m.\u001b[39msleep(\u001b[38;5;241m3600\u001b[39m)\n\u001b[1;32m    276\u001b[0m     _f(\u001b[38;5;124m\"\u001b[39m\u001b[38;5;124minfo\u001b[39m\u001b[38;5;124m\"\u001b[39m,\n\u001b[1;32m    277\u001b[0m         \u001b[38;5;124mf\u001b[39m\u001b[38;5;124m'\u001b[39m\u001b[38;5;124mconsuming delta from [\u001b[39m\u001b[38;5;132;01m{\u001b[39;00m\u001b[38;5;28mself\u001b[39m\u001b[38;5;241m.\u001b[39mmagnet\u001b[38;5;241m.\u001b[39mconfig\u001b[38;5;241m.\u001b[39mcategory\u001b[38;5;132;01m}\u001b[39;00m\u001b[38;5;124m] on\u001b[39m\u001b[38;5;130;01m\\n\u001b[39;00m\u001b[38;5;124m🛰️ stream: \u001b[39m\u001b[38;5;132;01m{\u001b[39;00m\u001b[38;5;28mself\u001b[39m\u001b[38;5;241m.\u001b[39mmagnet\u001b[38;5;241m.\u001b[39mconfig\u001b[38;5;241m.\u001b[39mstream_name\u001b[38;5;132;01m}\u001b[39;00m\u001b[38;5;130;01m\\n\u001b[39;00m\u001b[38;5;124m🧲 session: \u001b[39m\u001b[38;5;124m\"\u001b[39m\u001b[38;5;132;01m{\u001b[39;00m\u001b[38;5;28mself\u001b[39m\u001b[38;5;241m.\u001b[39mmagnet\u001b[38;5;241m.\u001b[39mconfig\u001b[38;5;241m.\u001b[39msession\u001b[38;5;132;01m}\u001b[39;00m\u001b[38;5;124m\"\u001b[39m\u001b[38;5;124m'\u001b[39m)\n\u001b[1;32m    278\u001b[0m \u001b[38;5;28;01melse\u001b[39;00m:\n",
      "File \u001b[0;32m/opt/homebrew/Cellar/python@3.11/3.11.9/Frameworks/Python.framework/Versions/3.11/lib/python3.11/asyncio/tasks.py:649\u001b[0m, in \u001b[0;36msleep\u001b[0;34m(delay, result)\u001b[0m\n\u001b[1;32m    645\u001b[0m h \u001b[38;5;241m=\u001b[39m loop\u001b[38;5;241m.\u001b[39mcall_later(delay,\n\u001b[1;32m    646\u001b[0m                     futures\u001b[38;5;241m.\u001b[39m_set_result_unless_cancelled,\n\u001b[1;32m    647\u001b[0m                     future, result)\n\u001b[1;32m    648\u001b[0m \u001b[38;5;28;01mtry\u001b[39;00m:\n\u001b[0;32m--> 649\u001b[0m     \u001b[38;5;28;01mreturn\u001b[39;00m \u001b[38;5;28;01mawait\u001b[39;00m future\n\u001b[1;32m    650\u001b[0m \u001b[38;5;28;01mfinally\u001b[39;00m:\n\u001b[1;32m    651\u001b[0m     h\u001b[38;5;241m.\u001b[39mcancel()\n",
      "\u001b[0;31mCancelledError\u001b[0m: "
     ]
    }
   ],
   "source": [
    "# simple data pipelines with predictable outcomes\n",
    "from magnet.utils.data_classes import FilePayload, Payload\n",
    "from tractor_beam.utils.file_handlers import PDFProcessor\n",
    "import base64\n",
    "\n",
    "file = \"/Users/dylan/VSCode/FinPDF/taking-stock-quarterly-outlook-en-us.pdf_2024-07-04.pdf\"\n",
    "\n",
    "with open(file, \"rb\") as fh:\n",
    "    content = fh.read()\n",
    "    encoded_content = base64.b64encode(content).decode('utf-8')\n",
    "\n",
    "await field.pulse(\n",
    "    FilePayload(encoded_content, file.split('/')[-1])\n",
    "    , v=True\n",
    ")\n",
    "\n",
    "from magnet.ic.field import Resonator\n",
    "\n",
    "reso = Resonator(magnet)\n",
    "\n",
    "async def handle_payload(payload, msg):\n",
    "    await reso.download(msg)\n",
    "    processor = PDFProcessor(f\"./{msg.name}.{msg.headers['ext']}\")\n",
    "    models = processor.load_models()\n",
    "    file = await processor.export_to_markdown(f\"./\", msg.name, models)\n",
    "    with open(f\"{file}/{file.split('/')[-1]}.md\", \"r\") as md:\n",
    "        content = md.read()\n",
    "        await field.pulse(Payload(content, file.split('/')[-1]), v=True)\n",
    "    await payload.delete(msg.name)\n",
    "\n",
    "await reso.on(obj=True)\n",
    "\n",
    "await reso.listen(cb=handle_payload, v=True)"
   ]
  },
  {
   "cell_type": "code",
   "execution_count": 4,
   "metadata": {},
   "outputs": [
    {
     "name": "stdout",
     "output_type": "stream",
     "text": [
      "\u001b[96m☕️ WAIT: stopping magnet-embedded-nats\u001b[0m\n",
      "\u001b[92m🌊 SUCCESS: magnet-embedded-nats stopped\u001b[0m\n",
      "\u001b[94mℹ️ INFO: removing magnet-embedded-nats\u001b[0m\n",
      "\u001b[92m🌊 SUCCESS: embedded nats removed\u001b[0m\n",
      "\u001b[92m🌊 SUCCESS: embedded milvus server stopped\u001b[0m\n",
      "\u001b[93m🚨 WARN: container engine pruned\u001b[0m\n",
      "\u001b[92m🌊 SUCCESS: embedded cluster cleaned up\u001b[0m\n"
     ]
    }
   ],
   "source": [
    "cluster.stop()\n",
    "cluster.cleanup()"
   ]
  },
  {
   "cell_type": "code",
   "execution_count": null,
   "metadata": {},
   "outputs": [],
   "source": []
  }
 ],
 "metadata": {
  "kernelspec": {
   "display_name": "Python 3",
   "language": "python",
   "name": "python3"
  },
  "language_info": {
   "codemirror_mode": {
    "name": "ipython",
    "version": 3
   },
   "file_extension": ".py",
   "mimetype": "text/x-python",
   "name": "python",
   "nbconvert_exporter": "python",
   "pygments_lexer": "ipython3",
   "version": "3.11.9"
  }
 },
 "nbformat": 4,
 "nbformat_minor": 2
}
