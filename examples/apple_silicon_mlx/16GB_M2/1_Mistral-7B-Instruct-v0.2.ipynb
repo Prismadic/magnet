{
 "cells": [
  {
   "cell_type": "code",
   "execution_count": 1,
   "metadata": {},
   "outputs": [
    {
     "name": "stdout",
     "output_type": "stream",
     "text": [
      "\u001b[92m🌊 SUCCESS: connected successfully to 192.168.2.69\u001b[0m\n",
      "\u001b[93m🚨 WARN: (p + q + d) > n\u001b[0m\n",
      "\u001b[96m☕️ WAIT: loading model from /Users/dylan/Mistral-7B-Instruct-v0.2/\u001b[0m\n",
      "\u001b[92m🌊 SUCCESS: loaded /Users/dylan/Mistral-7B-Instruct-v0.2/\u001b[0m\n"
     ]
    },
    {
     "data": {
      "text/plain": [
       "'\\n\\nRoblox Corporation is a Delaware corporation that was incorporated in March 2004. The Company operates a human experience platform, called the Roblox Platform, where users can interact with each other to explore and create immers'"
      ]
     },
     "execution_count": 1,
     "metadata": {},
     "output_type": "execute_result"
    }
   ],
   "source": [
    "from magnet.ron import llm\n",
    "from magnet.ize import memory\n",
    "\n",
    "config = {\n",
    "    \"MILVUS_URI\": \"192.168.2.69\"\n",
    "    , \"DIMENSION\": 1024\n",
    "    , \"MODEL\": \"BAAI/bge-large-en-v1.5\"\n",
    "    , \"INDEX\": \"bge_large_deduped\"\n",
    "    , \"INDEX_PARAMS\": {\n",
    "        'metric_type': 'COSINE',\n",
    "        'index_type':'HNSW',\n",
    "        'params': {\n",
    "            \"efConstruction\": 40\n",
    "            , \"M\": 48\n",
    "        },\n",
    "    }\n",
    "}\n",
    "\n",
    "async def handle_search(q, docs):\n",
    "    gen = llm.Generate()\n",
    "    return await gen.ask(\n",
    "        q = q\n",
    "        , docs = docs\n",
    "        , n = 50 # quantized models are a little talkative sometimes...\n",
    "        , m = '/Users/dylan/Mistral-7B-Instruct-v0.2/'\n",
    "    )\n",
    "\n",
    "index = memory.Embedder(config)\n",
    "q = 'Tell me about Roblox'\n",
    "\n",
    "results = index.search(q, limit=5, cb=handle_search)\n",
    "await results"
   ]
  }
 ],
 "metadata": {
  "kernelspec": {
   "display_name": "Python 3",
   "language": "python",
   "name": "python3"
  },
  "language_info": {
   "codemirror_mode": {
    "name": "ipython",
    "version": 3
   },
   "file_extension": ".py",
   "mimetype": "text/x-python",
   "name": "python",
   "nbconvert_exporter": "python",
   "pygments_lexer": "ipython3",
   "version": "3.11.5"
  }
 },
 "nbformat": 4,
 "nbformat_minor": 2
}
