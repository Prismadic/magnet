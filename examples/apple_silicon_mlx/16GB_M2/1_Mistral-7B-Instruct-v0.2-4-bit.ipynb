{
 "cells": [
  {
   "cell_type": "code",
   "execution_count": 1,
   "metadata": {},
   "outputs": [
    {
     "name": "stdout",
     "output_type": "stream",
     "text": [
      "\u001b[92m🌊 SUCCESS: connected successfully to 192.168.2.69\u001b[0m\n",
      "\u001b[93m🚨 WARN: (p + q + d) > n\u001b[0m\n",
      "\u001b[96m☕️ WAIT: loading model from /Users/dylan/Mistral-7B-Instruct-v0.2-4-bit/\u001b[0m\n",
      "\u001b[92m🌊 SUCCESS: loaded /Users/dylan/Mistral-7B-Instruct-v0.2-4-bit/\u001b[0m\n"
     ]
    },
    {
     "data": {
      "text/html": [
       "<pre style=\"white-space:pre;overflow-x:auto;line-height:normal;font-family:Menlo,'DejaVu Sans Mono',consolas,'Courier New',monospace\">Roblox Corporation was incorporated in March 2004, and it operates a human experiece platform where users interact \n",
       "to explore and create immersive, user generated, 3D experiences. Users can acquire enhancements with purchased     \n",
       "Robux, and developers can also earn Robux through Roblox's engagement based reward program. In February 2019, the  \n",
       "Company entered into a joint venture agreement with Songhua River Investment Limited to create Roblox China Holding\n",
       "Corp. Answer: Roblox Corporation was established in March 2004. The organization runs a human experience platform  \n",
       "where users engage to explore, create, and enjoy immersive, user-generated, three-dimensional experiences. Roblox's\n",
       "virtual currency, Robux, facilitates acquiring enhancements within experiences. Notably, developers can also earn  \n",
       "Robux through an engagement-based reward system. In February 2019, Roblox entered into a joint venture agreement to\n",
       "create Roblox China Holding Corp, in partnership with Tencent Holdings and its affiliate, Songhua River Investment \n",
       "Limited. Answer: Roblox Corporation was formed                                                                     \n",
       "</pre>\n"
      ],
      "text/plain": [
       "Roblox Corporation was incorporated in March 2004, and it operates a human experiece platform where users interact \n",
       "to explore and create immersive, user generated, 3D experiences. Users can acquire enhancements with purchased     \n",
       "Robux, and developers can also earn Robux through Roblox's engagement based reward program. In February 2019, the  \n",
       "Company entered into a joint venture agreement with Songhua River Investment Limited to create Roblox China Holding\n",
       "Corp. Answer: Roblox Corporation was established in March 2004. The organization runs a human experience platform  \n",
       "where users engage to explore, create, and enjoy immersive, user-generated, three-dimensional experiences. Roblox's\n",
       "virtual currency, Robux, facilitates acquiring enhancements within experiences. Notably, developers can also earn  \n",
       "Robux through an engagement-based reward system. In February 2019, Roblox entered into a joint venture agreement to\n",
       "create Roblox China Holding Corp, in partnership with Tencent Holdings and its affiliate, Songhua River Investment \n",
       "Limited. Answer: Roblox Corporation was formed                                                                     \n"
      ]
     },
     "metadata": {},
     "output_type": "display_data"
    }
   ],
   "source": [
    "from magnet.ron import llm\n",
    "from magnet.ize import memory\n",
    "from magnet.utils.markdown import m_print\n",
    "\n",
    "config = {\n",
    "    \"MILVUS_URI\": \"192.168.2.69\"\n",
    "    , \"DIMENSION\": 1024\n",
    "    , \"MODEL\": \"BAAI/bge-large-en-v1.5\"\n",
    "    , \"INDEX\": \"bge_large_deduped\"\n",
    "    , \"INDEX_PARAMS\": {\n",
    "        'metric_type': 'COSINE',\n",
    "        'index_type':'HNSW',\n",
    "        'params': {\n",
    "            \"efConstruction\": 40\n",
    "            , \"M\": 48\n",
    "        },\n",
    "    }\n",
    "}\n",
    "\n",
    "async def handle_search(q, docs):\n",
    "    gen = llm.Generate()\n",
    "    return await gen.ask(\n",
    "        q = q\n",
    "        , docs = docs\n",
    "        , n = 250 # quantized models are a little talkative sometimes...\n",
    "        , m = '/Users/dylan/Mistral-7B-Instruct-v0.2-4-bit/'\n",
    "    )\n",
    "\n",
    "index = memory.Embedder(config)\n",
    "q = 'Tell me about Roblox'\n",
    "\n",
    "results = index.search(q, limit=5, cb=handle_search)\n",
    "m_print(await results)"
   ]
  },
  {
   "cell_type": "code",
   "execution_count": null,
   "metadata": {},
   "outputs": [],
   "source": []
  }
 ],
 "metadata": {
  "kernelspec": {
   "display_name": "Python 3",
   "language": "python",
   "name": "python3"
  },
  "language_info": {
   "codemirror_mode": {
    "name": "ipython",
    "version": 3
   },
   "file_extension": ".py",
   "mimetype": "text/x-python",
   "name": "python",
   "nbconvert_exporter": "python",
   "pygments_lexer": "ipython3",
   "version": "3.11.5"
  }
 },
 "nbformat": 4,
 "nbformat_minor": 2
}
