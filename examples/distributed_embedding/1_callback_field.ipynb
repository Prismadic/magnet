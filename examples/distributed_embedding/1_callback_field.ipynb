{
 "cells": [
  {
   "cell_type": "code",
   "execution_count": 1,
   "metadata": {},
   "outputs": [
    {
     "name": "stdout",
     "output_type": "stream",
     "text": [
      "\u001b[96m☕️ WAIT: creating embeddings\u001b[0m\n",
      "\u001b[92m🌊 SUCCESS: connected to [documents] on\n",
      "🛰️ stream: embeddings\u001b[0m\n"
     ]
    }
   ],
   "source": [
    "from magnet.ic import field\n",
    "charge = field.Charge(\"my-user:T0pS3cr3t@192.168.2.69\")\n",
    "await charge.on(category=\"documents\", stream=\"embeddings\", create=True)\n",
    "# await charge.emp(name='embeddings')"
   ]
  },
  {
   "cell_type": "code",
   "execution_count": 2,
   "metadata": {},
   "outputs": [
    {
     "name": "stdout",
     "output_type": "stream",
     "text": [
      "\u001b[92m🌊 SUCCESS: connected successfully to 192.168.2.69\u001b[0m\n"
     ]
    }
   ],
   "source": [
    "from magnet.ize import memory\n",
    "config = {\n",
    "    \"MILVUS_URI\": \"192.168.2.69\"\n",
    "    , \"DIMENSION\": 1024\n",
    "    , \"MODEL\": \"BAAI/bge-large-en-v1.5\"\n",
    "    , \"INDEX\": \"non_nlp_chunks\"\n",
    "    , \"INDEX_PARAMS\": {\n",
    "        'metric_type': 'COSINE',\n",
    "        'index_type':'HNSW',\n",
    "        'params': {\n",
    "            \"efConstruction\": 40\n",
    "            , \"M\": 48\n",
    "        },\n",
    "    }\n",
    "}\n",
    "\n",
    "index = memory.Embedder(config)"
   ]
  },
  {
   "cell_type": "code",
   "execution_count": 3,
   "metadata": {},
   "outputs": [
    {
     "name": "stdout",
     "output_type": "stream",
     "text": [
      "\u001b[96m☕️ WAIT: connecting to my-user:T0pS3cr3t@192.168.2.69\u001b[0m\n",
      "\u001b[92m🌊 SUCCESS: connected to my-user:T0pS3cr3t@192.168.2.69\u001b[0m\n",
      "\u001b[94mℹ️ INFO: consuming delta from [no_category] on\n",
      "🛰️ stream: documents\n",
      "🧲 session: \"magnet_embedder\"\u001b[0m\n"
     ]
    }
   ],
   "source": [
    "reso = field.Resonator(\"my-user:T0pS3cr3t@192.168.2.69\")\n",
    "async def handle_payload(payload, msg):\n",
    "    await index.embed_and_charge(payload, field=charge)\n",
    "    msg.ack()\n",
    "await reso.on(cb=handle_payload, session=\"bge-large-en-v1.5\")"
   ]
  },
  {
   "cell_type": "code",
   "execution_count": null,
   "metadata": {},
   "outputs": [],
   "source": []
  }
 ],
 "metadata": {
  "kernelspec": {
   "display_name": "Python 3",
   "language": "python",
   "name": "python3"
  },
  "language_info": {
   "codemirror_mode": {
    "name": "ipython",
    "version": 3
   },
   "file_extension": ".py",
   "mimetype": "text/x-python",
   "name": "python",
   "nbconvert_exporter": "python",
   "pygments_lexer": "ipython3",
   "version": "3.11.5"
  }
 },
 "nbformat": 4,
 "nbformat_minor": 2
}
