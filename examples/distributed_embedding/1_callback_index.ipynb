{
 "cells": [
  {
   "cell_type": "code",
   "execution_count": 1,
   "metadata": {},
   "outputs": [
    {
     "name": "stdout",
     "output_type": "stream",
     "text": [
      "\u001b[92m🌊 SUCCESS: connected successfully to 192.168.2.69\u001b[0m\n"
     ]
    }
   ],
   "source": [
    "from magnet.ize import memory\n",
    "config = {\n",
    "    \"MILVUS_URI\": \"192.168.2.69\"\n",
    "    , \"DIMENSION\": 1024\n",
    "    , \"MODEL\": \"BAAI/bge-large-en-v1.5\"\n",
    "    , \"INDEX\": \"bge_nlp_deduped\"\n",
    "    , \"INDEX_PARAMS\": {\n",
    "        'metric_type': 'COSINE',\n",
    "        'index_type':'HNSW',\n",
    "        'params': {\n",
    "            \"efConstruction\": 40\n",
    "            , \"M\": 48\n",
    "        },\n",
    "    }\n",
    "}\n",
    "\n",
    "index = memory.Embedder(config)"
   ]
  },
  {
   "cell_type": "code",
   "execution_count": 2,
   "metadata": {},
   "outputs": [
    {
     "name": "stdout",
     "output_type": "stream",
     "text": [
      "\u001b[96m☕️ WAIT: connecting to my-user:T0pS3cr3t@192.168.2.69\u001b[0m\n",
      "\u001b[92m🌊 SUCCESS: connected to my-user:T0pS3cr3t@192.168.2.69\u001b[0m\n",
      "\u001b[94mℹ️ INFO: consuming delta from [nlp_chunks_deduped] on\n",
      "🛰️ stream: documents\n",
      "🧲 session: \"bge_nlp_deduped_embedder\"\u001b[0m\n"
     ]
    },
    {
     "name": "stderr",
     "output_type": "stream",
     "text": [
      "RPC error: [batch_insert], <ParamError: (code=1, message=invalid input, length of string exceeds max length. length: 94908, max length: 65535)>, <Time:{'RPC start': '2023-12-23 17:44:57.461964', 'RPC error': '2023-12-23 17:44:57.462059'}>\n"
     ]
    },
    {
     "name": "stdout",
     "output_type": "stream",
     "text": [
      "\u001b[91m☠️ FATAL: <ParamError: (code=1, message=invalid input, length of string exceeds max length. length: 94908, max length: 65535)>\u001b[0m\n"
     ]
    }
   ],
   "source": [
    "from magnet.ic import field\n",
    "reso = field.Resonator(\"my-user:T0pS3cr3t@192.168.2.69\")\n",
    "async def handle_payload(payload, msg):\n",
    "    await index.embed_and_store(payload)\n",
    "    await msg.ack()\n",
    "await reso.on(cb=handle_payload, category=\"nlp_chunks_deduped\", session=\"bge_nlp_deduped_embedder\", stream=\"documents\")"
   ]
  },
  {
   "cell_type": "code",
   "execution_count": null,
   "metadata": {},
   "outputs": [
    {
     "name": "stdout",
     "output_type": "stream",
     "text": [
      "\u001b[93m🚨 WARN: bge_nlp_deduped deleted\u001b[0m\n"
     ]
    }
   ],
   "source": [
    "# index.delete(name=\"bge_nlp_deduped\")"
   ]
  },
  {
   "cell_type": "code",
   "execution_count": null,
   "metadata": {},
   "outputs": [],
   "source": []
  }
 ],
 "metadata": {
  "kernelspec": {
   "display_name": "Python 3",
   "language": "python",
   "name": "python3"
  },
  "language_info": {
   "codemirror_mode": {
    "name": "ipython",
    "version": 3
   },
   "file_extension": ".py",
   "mimetype": "text/x-python",
   "name": "python",
   "nbconvert_exporter": "python",
   "pygments_lexer": "ipython3",
   "version": "3.11.5"
  }
 },
 "nbformat": 4,
 "nbformat_minor": 2
}
