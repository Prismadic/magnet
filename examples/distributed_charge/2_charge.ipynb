{
 "cells": [
  {
   "cell_type": "code",
   "execution_count": 1,
   "metadata": {},
   "outputs": [],
   "source": [
    "from magnet.ize.filings import Processor\n",
    "export_data_file = \"./data/filings_mistral_nlp.parquet\""
   ]
  },
  {
   "cell_type": "code",
   "execution_count": 2,
   "metadata": {},
   "outputs": [
    {
     "name": "stdout",
     "output_type": "stream",
     "text": [
      "\u001b[92m🌊 SUCCESS: created [nlp_chunks] on\n",
      "🛰️ stream: documents\u001b[0m\n",
      "\u001b[92m🌊 SUCCESS: connected to [nlp_chunks] on\n",
      "🛰️ stream: documents\u001b[0m\n"
     ]
    }
   ],
   "source": [
    "from magnet.ic import field\n",
    "field = field.Charge(\"my-user:T0pS3cr3t@192.168.2.69\") # your NATS cluster hostname & basic auth\n",
    "await field.on(category=\"nlp_chunks\", stream=\"documents\", create=True)"
   ]
  },
  {
   "cell_type": "code",
   "execution_count": 3,
   "metadata": {},
   "outputs": [
    {
     "name": "stdout",
     "output_type": "stream",
     "text": [
      "\u001b[96m☕️ WAIT: loading - ./data/filings_mistral_nlp.parquet\u001b[0m\n",
      "\u001b[92m🌊 SUCCESS: loaded - ./data/filings_mistral_nlp.parquet\u001b[0m\n"
     ]
    }
   ],
   "source": [
    "clustered_filings = Processor()\n",
    "clustered_filings.load(\n",
    "    export_data_file\n",
    "    , 'chunks'\n",
    "    , 'id'\n",
    ")"
   ]
  },
  {
   "cell_type": "code",
   "execution_count": 4,
   "metadata": {},
   "outputs": [
    {
     "name": "stderr",
     "output_type": "stream",
     "text": [
      "  1%|          | 3465/613710 [00:36<1:45:53, 96.05it/s] \n"
     ]
    },
    {
     "ename": "MaxPayloadError",
     "evalue": "nats: maximum payload exceeded",
     "output_type": "error",
     "traceback": [
      "\u001b[0;31m---------------------------------------------------------------------------\u001b[0m",
      "\u001b[0;31mMaxPayloadError\u001b[0m                           Traceback (most recent call last)",
      "Cell \u001b[0;32mIn[4], line 1\u001b[0m\n\u001b[0;32m----> 1\u001b[0m \u001b[38;5;28;01mawait\u001b[39;00m clustered_filings\u001b[38;5;241m.\u001b[39mcreate_charge(field\u001b[38;5;241m=\u001b[39mfield)\n",
      "File \u001b[0;32m~/VSCode/LLM/magnet.git/magnet/filings.py:95\u001b[0m, in \u001b[0;36mProcessor.create_charge\u001b[0;34m(self, field)\u001b[0m\n\u001b[1;32m     90\u001b[0m payload \u001b[38;5;241m=\u001b[39m Payload(\n\u001b[1;32m     91\u001b[0m     document \u001b[38;5;241m=\u001b[39m d\n\u001b[1;32m     92\u001b[0m     , text \u001b[38;5;241m=\u001b[39m c\n\u001b[1;32m     93\u001b[0m )\n\u001b[1;32m     94\u001b[0m \u001b[38;5;28;01mif\u001b[39;00m \u001b[38;5;28mself\u001b[39m\u001b[38;5;241m.\u001b[39mfield:\n\u001b[0;32m---> 95\u001b[0m     \u001b[38;5;28;01mawait\u001b[39;00m \u001b[38;5;28mself\u001b[39m\u001b[38;5;241m.\u001b[39mfield\u001b[38;5;241m.\u001b[39mpulse(payload)\n\u001b[1;32m     96\u001b[0m \u001b[38;5;28;01melse\u001b[39;00m:\n\u001b[1;32m     97\u001b[0m     _f(\u001b[38;5;124m'\u001b[39m\u001b[38;5;124mfatal\u001b[39m\u001b[38;5;124m'\u001b[39m, \u001b[38;5;124m'\u001b[39m\u001b[38;5;124mno field initialized\u001b[39m\u001b[38;5;124m'\u001b[39m)\n",
      "File \u001b[0;32m~/VSCode/LLM/magnet.git/magnet/ic/field.py:49\u001b[0m, in \u001b[0;36mCharge.pulse\u001b[0;34m(self, payload)\u001b[0m\n\u001b[1;32m     47\u001b[0m \u001b[38;5;28;01mexcept\u001b[39;00m \u001b[38;5;167;01mException\u001b[39;00m \u001b[38;5;28;01mas\u001b[39;00m e:\n\u001b[1;32m     48\u001b[0m     _f(\u001b[38;5;124m'\u001b[39m\u001b[38;5;124mfatal\u001b[39m\u001b[38;5;124m'\u001b[39m, \u001b[38;5;124mf\u001b[39m\u001b[38;5;124m'\u001b[39m\u001b[38;5;124minvalid JSON\u001b[39m\u001b[38;5;130;01m\\n\u001b[39;00m\u001b[38;5;132;01m{\u001b[39;00me\u001b[38;5;132;01m}\u001b[39;00m\u001b[38;5;124m'\u001b[39m)\n\u001b[0;32m---> 49\u001b[0m \u001b[38;5;28;01mawait\u001b[39;00m \u001b[38;5;28mself\u001b[39m\u001b[38;5;241m.\u001b[39mjs\u001b[38;5;241m.\u001b[39mpublish(\u001b[38;5;28mself\u001b[39m\u001b[38;5;241m.\u001b[39mcategory, bytes_)\n",
      "File \u001b[0;32m/opt/homebrew/lib/python3.11/site-packages/nats/js/client.py:125\u001b[0m, in \u001b[0;36mJetStreamContext.publish\u001b[0;34m(self, subject, payload, timeout, stream, headers)\u001b[0m\n\u001b[1;32m    122\u001b[0m     hdr[api\u001b[38;5;241m.\u001b[39mHeader\u001b[38;5;241m.\u001b[39mEXPECTED_STREAM] \u001b[38;5;241m=\u001b[39m stream\n\u001b[1;32m    124\u001b[0m \u001b[38;5;28;01mtry\u001b[39;00m:\n\u001b[0;32m--> 125\u001b[0m     msg \u001b[38;5;241m=\u001b[39m \u001b[38;5;28;01mawait\u001b[39;00m \u001b[38;5;28mself\u001b[39m\u001b[38;5;241m.\u001b[39m_nc\u001b[38;5;241m.\u001b[39mrequest(\n\u001b[1;32m    126\u001b[0m         subject,\n\u001b[1;32m    127\u001b[0m         payload,\n\u001b[1;32m    128\u001b[0m         timeout\u001b[38;5;241m=\u001b[39mtimeout,\n\u001b[1;32m    129\u001b[0m         headers\u001b[38;5;241m=\u001b[39mhdr,\n\u001b[1;32m    130\u001b[0m     )\n\u001b[1;32m    131\u001b[0m \u001b[38;5;28;01mexcept\u001b[39;00m nats\u001b[38;5;241m.\u001b[39merrors\u001b[38;5;241m.\u001b[39mNoRespondersError:\n\u001b[1;32m    132\u001b[0m     \u001b[38;5;28;01mraise\u001b[39;00m nats\u001b[38;5;241m.\u001b[39mjs\u001b[38;5;241m.\u001b[39merrors\u001b[38;5;241m.\u001b[39mNoStreamResponseError\n",
      "File \u001b[0;32m/opt/homebrew/lib/python3.11/site-packages/nats/aio/client.py:991\u001b[0m, in \u001b[0;36mClient.request\u001b[0;34m(self, subject, payload, timeout, old_style, headers)\u001b[0m\n\u001b[1;32m    987\u001b[0m     \u001b[38;5;28;01mreturn\u001b[39;00m \u001b[38;5;28;01mawait\u001b[39;00m \u001b[38;5;28mself\u001b[39m\u001b[38;5;241m.\u001b[39m_request_old_style(\n\u001b[1;32m    988\u001b[0m         subject, payload, timeout\u001b[38;5;241m=\u001b[39mtimeout\n\u001b[1;32m    989\u001b[0m     )\n\u001b[1;32m    990\u001b[0m \u001b[38;5;28;01melse\u001b[39;00m:\n\u001b[0;32m--> 991\u001b[0m     msg \u001b[38;5;241m=\u001b[39m \u001b[38;5;28;01mawait\u001b[39;00m \u001b[38;5;28mself\u001b[39m\u001b[38;5;241m.\u001b[39m_request_new_style(\n\u001b[1;32m    992\u001b[0m         subject, payload, timeout\u001b[38;5;241m=\u001b[39mtimeout, headers\u001b[38;5;241m=\u001b[39mheaders\n\u001b[1;32m    993\u001b[0m     )\n\u001b[1;32m    994\u001b[0m \u001b[38;5;28;01mif\u001b[39;00m msg\u001b[38;5;241m.\u001b[39mheaders \u001b[38;5;129;01mand\u001b[39;00m msg\u001b[38;5;241m.\u001b[39mheaders\u001b[38;5;241m.\u001b[39mget(nats\u001b[38;5;241m.\u001b[39mjs\u001b[38;5;241m.\u001b[39mapi\u001b[38;5;241m.\u001b[39mHeader\u001b[38;5;241m.\u001b[39mSTATUS\n\u001b[1;32m    995\u001b[0m                                    ) \u001b[38;5;241m==\u001b[39m NO_RESPONDERS_STATUS:\n\u001b[1;32m    996\u001b[0m     \u001b[38;5;28;01mraise\u001b[39;00m errors\u001b[38;5;241m.\u001b[39mNoRespondersError\n",
      "File \u001b[0;32m/opt/homebrew/lib/python3.11/site-packages/nats/aio/client.py:1021\u001b[0m, in \u001b[0;36mClient._request_new_style\u001b[0;34m(self, subject, payload, timeout, headers)\u001b[0m\n\u001b[1;32m   1019\u001b[0m future: asyncio\u001b[38;5;241m.\u001b[39mFuture \u001b[38;5;241m=\u001b[39m asyncio\u001b[38;5;241m.\u001b[39mFuture()\n\u001b[1;32m   1020\u001b[0m \u001b[38;5;28mself\u001b[39m\u001b[38;5;241m.\u001b[39m_resp_map[token\u001b[38;5;241m.\u001b[39mdecode()] \u001b[38;5;241m=\u001b[39m future\n\u001b[0;32m-> 1021\u001b[0m \u001b[38;5;28;01mawait\u001b[39;00m \u001b[38;5;28mself\u001b[39m\u001b[38;5;241m.\u001b[39mpublish(\n\u001b[1;32m   1022\u001b[0m     subject, payload, reply\u001b[38;5;241m=\u001b[39minbox\u001b[38;5;241m.\u001b[39mdecode(), headers\u001b[38;5;241m=\u001b[39mheaders\n\u001b[1;32m   1023\u001b[0m )\n\u001b[1;32m   1025\u001b[0m \u001b[38;5;66;03m# Wait for the response or give up on timeout.\u001b[39;00m\n\u001b[1;32m   1026\u001b[0m \u001b[38;5;28;01mtry\u001b[39;00m:\n",
      "File \u001b[0;32m/opt/homebrew/lib/python3.11/site-packages/nats/aio/client.py:838\u001b[0m, in \u001b[0;36mClient.publish\u001b[0;34m(self, subject, payload, reply, headers)\u001b[0m\n\u001b[1;32m    835\u001b[0m         \u001b[38;5;28;01mraise\u001b[39;00m errors\u001b[38;5;241m.\u001b[39mOutboundBufferLimitError\n\u001b[1;32m    837\u001b[0m \u001b[38;5;28;01mif\u001b[39;00m payload_size \u001b[38;5;241m>\u001b[39m \u001b[38;5;28mself\u001b[39m\u001b[38;5;241m.\u001b[39m_max_payload:\n\u001b[0;32m--> 838\u001b[0m     \u001b[38;5;28;01mraise\u001b[39;00m errors\u001b[38;5;241m.\u001b[39mMaxPayloadError\n\u001b[1;32m    839\u001b[0m \u001b[38;5;28;01mawait\u001b[39;00m \u001b[38;5;28mself\u001b[39m\u001b[38;5;241m.\u001b[39m_send_publish(\n\u001b[1;32m    840\u001b[0m     subject, reply, payload, payload_size, headers\n\u001b[1;32m    841\u001b[0m )\n",
      "\u001b[0;31mMaxPayloadError\u001b[0m: nats: maximum payload exceeded"
     ]
    }
   ],
   "source": [
    "await clustered_filings.create_charge(field=field)"
   ]
  },
  {
   "cell_type": "code",
   "execution_count": 5,
   "metadata": {},
   "outputs": [
    {
     "name": "stdout",
     "output_type": "stream",
     "text": [
      "\u001b[93m🚨 WARN: nlp_chunks category deleted\u001b[0m\n"
     ]
    }
   ],
   "source": [
    "await field.reset(name=\"nlp_chunks\")"
   ]
  },
  {
   "cell_type": "code",
   "execution_count": null,
   "metadata": {},
   "outputs": [],
   "source": []
  }
 ],
 "metadata": {
  "kernelspec": {
   "display_name": "Python 3",
   "language": "python",
   "name": "python3"
  },
  "language_info": {
   "codemirror_mode": {
    "name": "ipython",
    "version": 3
   },
   "file_extension": ".py",
   "mimetype": "text/x-python",
   "name": "python",
   "nbconvert_exporter": "python",
   "pygments_lexer": "ipython3",
   "version": "3.11.5"
  }
 },
 "nbformat": 4,
 "nbformat_minor": 2
}
