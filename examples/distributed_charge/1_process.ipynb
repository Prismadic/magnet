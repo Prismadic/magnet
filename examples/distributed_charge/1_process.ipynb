{
 "cells": [
  {
   "cell_type": "code",
   "execution_count": 6,
   "metadata": {},
   "outputs": [],
   "source": [
    "from magnet.ize.filings import Processor\n",
    "source_data_file = \"../../raw/kb_export_clean.csv\"\n",
    "export_data_file = \"../../data/filings_mistral_nlp.parquet\""
   ]
  },
  {
   "cell_type": "code",
   "execution_count": 7,
   "metadata": {},
   "outputs": [
    {
     "name": "stdout",
     "output_type": "stream",
     "text": [
      "\u001b[96m☕️ WAIT: loading - ../../raw/kb_export_clean.csv\u001b[0m\n",
      "\u001b[92m🌊 SUCCESS: loaded - ../../raw/kb_export_clean.csv\u001b[0m\n"
     ]
    }
   ],
   "source": [
    "clustered_filings = Processor()\n",
    "clustered_filings.load(\n",
    "    source_data_file\n",
    "    , 'clean'\n",
    "    , 'file'\n",
    ")"
   ]
  },
  {
   "cell_type": "code",
   "execution_count": 8,
   "metadata": {},
   "outputs": [
    {
     "name": "stdout",
     "output_type": "stream",
     "text": [
      "\u001b[96m☕️ WAIT: get coffee or tea - 65822 processing...\u001b[0m\n"
     ]
    },
    {
     "name": "stderr",
     "output_type": "stream",
     "text": [
      "100%|██████████| 65822/65822 [19:54<00:00, 55.10it/s]   \n",
      "100%|██████████| 65822/65822 [00:02<00:00, 23208.89it/s]\n"
     ]
    },
    {
     "name": "stdout",
     "output_type": "stream",
     "text": [
      "\u001b[96m☕️ WAIT: saving to ../../data/filings_mistral_nlp.parquet\u001b[0m\n",
      "\u001b[92m🌊 SUCCESS: saved - ../../data/filings_mistral_nlp.parquet\u001b[0m\n"
     ]
    }
   ],
   "source": [
    "await clustered_filings.process(\n",
    "    export_data_file\n",
    "    , nlp=True\n",
    ")"
   ]
  },
  {
   "cell_type": "code",
   "execution_count": null,
   "metadata": {},
   "outputs": [],
   "source": []
  }
 ],
 "metadata": {
  "kernelspec": {
   "display_name": "Python 3",
   "language": "python",
   "name": "python3"
  },
  "language_info": {
   "codemirror_mode": {
    "name": "ipython",
    "version": 3
   },
   "file_extension": ".py",
   "mimetype": "text/x-python",
   "name": "python",
   "nbconvert_exporter": "python",
   "pygments_lexer": "ipython3",
   "version": "3.11.5"
  }
 },
 "nbformat": 4,
 "nbformat_minor": 2
}
