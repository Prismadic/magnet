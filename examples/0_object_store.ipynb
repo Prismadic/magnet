{
 "cells": [
  {
   "cell_type": "code",
   "execution_count": null,
   "metadata": {},
   "outputs": [],
   "source": [
    "from magnet.base import Magnet\n",
    "from magnet.base import EmbeddedMagnet\n",
    "\n",
    "cluster = EmbeddedMagnet()\n",
    "cluster.start()\n",
    "magnet = cluster.create_magnet()\n",
    "await magnet.align()\n",
    "\n",
    "config = {\n",
    "    \"host\": \"localhost\",\n",
    "    \"credentials\": None,\n",
    "    \"domain\": None,\n",
    "    \"stream_name\": \"my_stream\",\n",
    "    \"category\": \"my_category\",\n",
    "    \"kv_name\": \"my_kv\",\n",
    "    \"session\": \"my_session\",\n",
    "    \"os_name\": \"my_object_store\",\n",
    "    \"index\": {\n",
    "        \"milvus_uri\": \"127.0.0.1\",\n",
    "        \"milvus_port\": 19530,\n",
    "        \"milvus_user\": \"test\",\n",
    "        \"milvus_password\": \"test\",\n",
    "        \"dimension\": 1024,\n",
    "        \"model\": \"BAAI/bge-large-en-v1.5\",\n",
    "        \"name\": \"test\",\n",
    "        \"options\": {\n",
    "            'metric_type': 'COSINE',\n",
    "            'index_type':'HNSW',\n",
    "            'params': {\n",
    "                \"efConstruction\": 40\n",
    "                , \"M\": 48\n",
    "            }\n",
    "        }\n",
    "    }\n",
    "}\n",
    "\n",
    "magnet = Magnet(config)\n",
    "await magnet.align()"
   ]
  },
  {
   "cell_type": "code",
   "execution_count": null,
   "metadata": {},
   "outputs": [],
   "source": [
    "from magnet.ic.field import Charge\n",
    "\n",
    "field = Charge(magnet)\n",
    "await field.on()"
   ]
  },
  {
   "cell_type": "code",
   "execution_count": null,
   "metadata": {},
   "outputs": [],
   "source": [
    "# simple data pipelines with predictable outcomes\n",
    "from magnet.utils.data_classes import FilePayload\n",
    "import base64\n",
    "\n",
    "file = \"/Users/dylan/VSCode/FinPDF/taking-stock-quarterly-outlook-en-us.pdf_2024-07-04.pdf\"\n",
    "\n",
    "with open(file, \"rb\") as fh:\n",
    "    content = fh.read()\n",
    "    encoded_content = base64.b64encode(content).decode('utf-8')\n",
    "\n",
    "await field.pulse(\n",
    "    FilePayload(encoded_content, file.split('/')[-1])\n",
    "    , v=True\n",
    ")\n",
    "\n",
    "from magnet.ic.field import Resonator\n",
    "\n",
    "reso = Resonator(magnet)\n",
    "\n",
    "async def handle_payload(payload, msg):\n",
    "    print(msg)\n",
    "    await reso.download(msg)\n",
    "    await payload.delete(msg.name)\n",
    "\n",
    "await reso.on(obj=True)\n",
    "\n",
    "await reso.listen(cb=handle_payload, v=True)"
   ]
  },
  {
   "cell_type": "code",
   "execution_count": null,
   "metadata": {},
   "outputs": [],
   "source": []
  }
 ],
 "metadata": {
  "kernelspec": {
   "display_name": "Python 3",
   "language": "python",
   "name": "python3"
  },
  "language_info": {
   "codemirror_mode": {
    "name": "ipython",
    "version": 3
   },
   "file_extension": ".py",
   "mimetype": "text/x-python",
   "name": "python",
   "nbconvert_exporter": "python",
   "pygments_lexer": "ipython3",
   "version": "3.11.9"
  }
 },
 "nbformat": 4,
 "nbformat_minor": 2
}
