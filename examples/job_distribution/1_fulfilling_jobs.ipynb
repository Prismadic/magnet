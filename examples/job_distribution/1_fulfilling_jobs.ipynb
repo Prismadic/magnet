{
 "cells": [
  {
   "cell_type": "code",
   "execution_count": 1,
   "metadata": {},
   "outputs": [],
   "source": [
    "from magnet.ic import field"
   ]
  },
  {
   "cell_type": "code",
   "execution_count": 2,
   "metadata": {},
   "outputs": [],
   "source": [
    "field = field.Resonator('my-user:T0pS3cr3t@192.168.2.69')"
   ]
  },
  {
   "cell_type": "code",
   "execution_count": 3,
   "metadata": {},
   "outputs": [
    {
     "name": "stdout",
     "output_type": "stream",
     "text": [
      "\u001b[96m☕️ WAIT: connecting to my-user:T0pS3cr3t@192.168.2.69\u001b[0m\n",
      "\u001b[92m🌊 SUCCESS: connected to my-user:T0pS3cr3t@192.168.2.69\u001b[0m\n"
     ]
    }
   ],
   "source": [
    "await field.on(category='testing', stream='jobs')"
   ]
  },
  {
   "cell_type": "code",
   "execution_count": 4,
   "metadata": {},
   "outputs": [
    {
     "name": "stdout",
     "output_type": "stream",
     "text": [
      "\u001b[94mℹ️ INFO: processing jobs from [testing] on\n",
      "🛰️ stream: jobs\n",
      "🧲 session: \"magnet\"\u001b[0m\n",
      "Msg(_client=<nats client v2.6.0>, subject='testing', reply='$JS.ACK.jobs.magnet.2.4.29.1705748829084420324.0', data=b'{\"milvus_host\":\"\", \"milvus_port\":0, \"milvus_username\":\"\", \"milvus_password\":\"\", \"milvus_collection\":\"\", \"nats_host\":\"\", \"nats_username\":\"\", \"nats_password\":\"\", \"nats_stream\":\"\", \"nats_category\":\"\", \"job_type\":\"\", \"job_range\":[0, 0], \"embedding_model\":\"\", \"generation_model\":\"\"}', headers={'Nats-Msg-Id': 'd6f751aca1ac3362'}, _metadata=None, _ackd=False, _sid=2)\n",
      "\u001b[93m🚨 WARN: something wrong in your callback function!\n",
      "'JobParams' object is not subscriptable\u001b[0m\n"
     ]
    }
   ],
   "source": [
    "async def handle_job(job, msg):\n",
    "    print(msg)\n",
    "    print(f'job type is {job.job_type}')\n",
    "await field.worker(cb=handle_job)"
   ]
  },
  {
   "cell_type": "code",
   "execution_count": null,
   "metadata": {},
   "outputs": [],
   "source": []
  }
 ],
 "metadata": {
  "kernelspec": {
   "display_name": "Python 3",
   "language": "python",
   "name": "python3"
  },
  "language_info": {
   "codemirror_mode": {
    "name": "ipython",
    "version": 3
   },
   "file_extension": ".py",
   "mimetype": "text/x-python",
   "name": "python",
   "nbconvert_exporter": "python",
   "pygments_lexer": "ipython3",
   "version": "3.11.5"
  }
 },
 "nbformat": 4,
 "nbformat_minor": 2
}
