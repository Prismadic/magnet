{
 "cells": [
  {
   "cell_type": "code",
   "execution_count": 1,
   "metadata": {},
   "outputs": [],
   "source": [
    "from magnet.ic import field"
   ]
  },
  {
   "cell_type": "code",
   "execution_count": 2,
   "metadata": {},
   "outputs": [],
   "source": [
    "field = field.Charge('my-user:T0pS3cr3t@192.168.2.69')"
   ]
  },
  {
   "cell_type": "code",
   "execution_count": 3,
   "metadata": {},
   "outputs": [
    {
     "name": "stdout",
     "output_type": "stream",
     "text": [
      "\u001b[92m🌊 SUCCESS: connected to [testing] on\n",
      "🛰️ stream: jobs\u001b[0m\n"
     ]
    }
   ],
   "source": [
    "await field.on(category='testing', stream='jobs', create=True)"
   ]
  },
  {
   "cell_type": "code",
   "execution_count": 4,
   "metadata": {},
   "outputs": [
    {
     "name": "stdout",
     "output_type": "stream",
     "text": [
      "\u001b[91m☠️ FATAL: could not send data to my-user:T0pS3cr3t@192.168.2.69\n",
      "nats: no response from stream\u001b[0m\n"
     ]
    }
   ],
   "source": [
    "job = {\n",
    "    \"milvus_host\": \"\"\n",
    "    , \"milvus_port\": 0\n",
    "    , \"milvus_username\": \"\"\n",
    "    , \"milvus_password\":  \"\"\n",
    "    , \"milvus_collection\":  \"\"\n",
    "    , \"nats_host\":  \"\"\n",
    "    , \"nats_username\":  \"\"\n",
    "    , \"nats_password\":  \"\"\n",
    "    , \"nats_stream\":  \"\"\n",
    "    , \"nats_category\":  \"\"\n",
    "    , \"job_type\":  \"\"\n",
    "    , \"job_range\": (0,0)\n",
    "    , \"embedding_model\":  \"\"\n",
    "    , \"generation_model\":  \"\"\n",
    "}\n",
    "await field.excite(job)"
   ]
  },
  {
   "cell_type": "code",
   "execution_count": null,
   "metadata": {},
   "outputs": [],
   "source": []
  }
 ],
 "metadata": {
  "kernelspec": {
   "display_name": "Python 3",
   "language": "python",
   "name": "python3"
  },
  "language_info": {
   "codemirror_mode": {
    "name": "ipython",
    "version": 3
   },
   "file_extension": ".py",
   "mimetype": "text/x-python",
   "name": "python",
   "nbconvert_exporter": "python",
   "pygments_lexer": "ipython3",
   "version": "3.11.5"
  }
 },
 "nbformat": 4,
 "nbformat_minor": 2
}
