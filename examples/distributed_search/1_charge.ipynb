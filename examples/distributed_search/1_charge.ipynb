{
 "cells": [
  {
   "cell_type": "code",
   "execution_count": 1,
   "metadata": {},
   "outputs": [],
   "source": [
    "from magnet.filings import Processor\n",
    "source_data_file = \"./raw/kb_export_clean.csv\""
   ]
  },
  {
   "cell_type": "code",
   "execution_count": 2,
   "metadata": {},
   "outputs": [
    {
     "name": "stdout",
     "output_type": "stream",
     "text": [
      "\u001b[92m🌊 SUCCESS: loaded - ./raw/kb_export_clean.csv\u001b[0m\n",
      "\u001b[92m🌊 SUCCESS: connected to my-user:T0pS3cr3t@192.168.2.69\u001b[0m\n",
      "\u001b[96m☕️ WAIT: get coffee or tea - 65822 processing...\u001b[0m\n"
     ]
    },
    {
     "name": "stderr",
     "output_type": "stream",
     "text": [
      "100%|██████████| 65822/65822 [01:56<00:00, 563.69it/s] \n",
      "lationType:   2%|▏         | 1334/65822 [13:17<2:08:16,  8.38it/s] "
     ]
    }
   ],
   "source": [
    "from magnet.ic import field\n",
    "nats_cluster = field.Charge(\"my-user:T0pS3cr3t@192.168.2.69\") # your NATS cluster hostname & basic auth\n",
    "clustered_filings = Processor(field=nats_cluster)\n",
    "clustered_filings.load(source_data_file)\n",
    "splitter = clustered_filings.mistral_splitter\n",
    "await clustered_filings.process('./data/filings_mistral.parquet','clean','file', nlp=False, splitter=splitter)"
   ]
  },
  {
   "cell_type": "code",
   "execution_count": 2,
   "metadata": {},
   "outputs": [
    {
     "name": "stdout",
     "output_type": "stream",
     "text": [
      "\u001b[92m🌊 SUCCESS: connected to my-user:T0pS3cr3t@192.168.2.69\u001b[0m\n",
      "\u001b[92m🌊 SUCCESS: no_category stream deleted\u001b[0m\n"
     ]
    }
   ],
   "source": [
    "from magnet.ic import field\n",
    "nats_cluster = field.Charge(\"my-user:T0pS3cr3t@192.168.2.69\")\n",
    "await nats_cluster.on()\n",
    "await nats_cluster.emp()"
   ]
  },
  {
   "cell_type": "code",
   "execution_count": null,
   "metadata": {},
   "outputs": [],
   "source": []
  }
 ],
 "metadata": {
  "kernelspec": {
   "display_name": "Python 3",
   "language": "python",
   "name": "python3"
  },
  "language_info": {
   "codemirror_mode": {
    "name": "ipython",
    "version": 3
   },
   "file_extension": ".py",
   "mimetype": "text/x-python",
   "name": "python",
   "nbconvert_exporter": "python",
   "pygments_lexer": "ipython3",
   "version": "3.11.5"
  }
 },
 "nbformat": 4,
 "nbformat_minor": 2
}
