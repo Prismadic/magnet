{
 "cells": [
  {
   "cell_type": "code",
   "execution_count": 1,
   "metadata": {},
   "outputs": [
    {
     "name": "stdout",
     "output_type": "stream",
     "text": [
      "\u001b[92m🌊 SUCCESS: containerization engine connected\u001b[0m\n",
      "\u001b[96m☕️ WAIT: <Container: 44d481784d64>\u001b[0m\n",
      "\u001b[96m☕️ WAIT: magnet-embedded-nats container progressing with id 44d481784d64ff5586400116ed906562a4eb8c9c233743df90fce4621e0a3371\u001b[0m\n",
      "\u001b[94mℹ️ INFO: nats logs\u001b[0m\n",
      "\u001b[33m 💜 ⣾: [1] 2024/03/13 15:01:57.594633 \u001b[0m\n",
      "\u001b[91m 🤩 ⡿:  Starting nats-server\n",
      "[1] 2024/03/13 15:01:57.594746 \u001b[0m\n",
      "\u001b[34m 🧮 ⣷:    Version:  2.10.12\n",
      "[1] 2024/03/13 15:01:57.594748 \u001b[0m\n",
      "\u001b[31m 💙 ⣯:    Git:      [121169ea]\n",
      "[1] 2024/03/13 15:01:57.594749 \u001b[0m\n",
      "\u001b[95m 🧡 ⡿:    Name:     NDHQUMMB2CXQW4RROUZLRITI37R4ZZLZSPJ74JADXO52RFMZPKVWFE67\n",
      "[1] 2024/03/13 15:01:57.594754 \u001b[0m\n",
      "\u001b[31m 💚 ⢿:    Node:     mt6NMlxK\n",
      "[1] 2024/03/13 15:01:57.594754 \u001b[0m\n",
      "\u001b[34m 🍤 ⣻:    ID:       NDHQUMMB2CXQW4RROUZLRITI37R4ZZLZSPJ74JADXO52RFMZPKVWFE67\n",
      "[1] 2024/03/13 15:01:57.594993 \u001b[0m\n",
      "\u001b[36m 💙 ⣻:  Starting JetStream\n",
      "[1] 2024/03/13 15:01:57.599277 \u001b[0m\n",
      "\u001b[36m 🏁 ⣻:      _ ___ _____ ___ _____ ___ ___   _   __  __\n",
      "[1] 2024/03/13 15:01:57.599288 \u001b[0m\n",
      "\u001b[34m ❤️ ⢿:   _ | | __|_   _/ __|_   _| _ \\ __| /_\\ |  \\/  |\n",
      "[1] 2024/03/13 15:01:57.599288 \u001b[0m\n",
      "\u001b[33m ❤️ ⣾:  | || | _|  | | \\__ \\ | | |   / _| / _ \\| |\\/| |\n",
      "[1] 2024/03/13 15:01:57.599289 \u001b[0m\n",
      "\u001b[93m 🌈 ⣽:   \\__/|___| |_| |___/ |_| |_|_\\___/_/ \\_\\_|  |_|\n",
      "[1] 2024/03/13 15:01:57.599290 \u001b[0m\n",
      "\u001b[91m ❤️ ⣾:  \n",
      "[1] 2024/03/13 15:01:57.599291 \u001b[0m\n",
      "\u001b[34m 💛 ⣻:           https://docs.nats.io/jetstream\n",
      "[1] 2024/03/13 15:01:57.599291 \u001b[0m\n",
      "\u001b[36m 💛 ⣯:  \n",
      "[1] 2024/03/13 15:01:57.599292 \u001b[0m\n",
      "\u001b[32m 🐈 ⣯:  ---------------- JETSTREAM ----------------\n",
      "[1] 2024/03/13 15:01:57.599294 \u001b[0m\n",
      "\u001b[91m ❤️ ⣯:    Max Memory:      11.70 GB\n",
      "[1] 2024/03/13 15:01:57.599295 \u001b[0m\n",
      "\u001b[93m 📊 ⣯:    Max Storage:     12.16 GB\n",
      "[1] 2024/03/13 15:01:57.599295 \u001b[0m\n",
      "\u001b[92m 🌈 ⢿:    Store Directory: \"/tmp/nats/jetstream\"\n",
      "[1] 2024/03/13 15:01:57.599296 \u001b[0m\n",
      "\u001b[95m ❤️ ⣽:  -------------------------------------------\n",
      "[1] 2024/03/13 15:01:57.600016 \u001b[0m\n",
      "\u001b[95m 🌈 ⣷:  Listening for client connections on 0.0.0.0:4222\n",
      "[1] 2024/03/13 15:01:57.600926 \u001b[0m\n",
      "\u001b[35m 🏁 ⣷:  Server is ready\n",
      "\u001b[0m\n",
      "\u001b[92m🌊 SUCCESS: milvus server started\u001b[0m\n",
      "\u001b[96m☕️ WAIT: creating prism with embedded cluster\u001b[0m\n",
      "\u001b[93m🚨 WARN: Stream my_stream not found, creating\u001b[0m\n",
      "\u001b[92m🌊 SUCCESS: created `my_stream` with default category `magnet`\u001b[0m\n",
      "\u001b[93m🚨 WARN: KV bucket my_kv not found, creating\u001b[0m\n",
      "\u001b[92m🌊 SUCCESS: created `my_kv`\u001b[0m\n",
      "\u001b[93m🚨 WARN: Object Store my_kv not found, creating\u001b[0m\n",
      "\u001b[92m🌊 SUCCESS: created `my_object_store`\u001b[0m\n",
      "\u001b[92m🌊 SUCCESS: 🧲 connected to \n",
      "💎 PrismConfig(host='127.0.0.1', domain=None, credentials=None, session='my_session', name='my_stream', category='my_category', kv_name='my_kv', os_name='my_object_store', index=IndexConfig(milvus_uri='127.0.0.1', milvus_port=19530, milvus_user='test', milvus_password='test', dimension=1024, model='BAAI/bge-large-en-v1.5', name='test', options={'metric_type': 'COSINE', 'index_type': 'HNSW', 'params': {'efConstruction': 40, 'M': 48}})) \u001b[0m\n",
      "\u001b[92m🌊 SUCCESS: 🧲 connected to \n",
      "💎 PrismConfig(host='127.0.0.1', domain=None, credentials=None, session='my_session', name='my_stream', category='my_category', kv_name='my_kv', os_name='my_object_store', index=IndexConfig(milvus_uri='127.0.0.1', milvus_port=19530, milvus_user='test', milvus_password='test', dimension=1024, model='BAAI/bge-large-en-v1.5', name='test', options={'metric_type': 'COSINE', 'index_type': 'HNSW', 'params': {'efConstruction': 40, 'M': 48}})) \u001b[0m\n"
     ]
    },
    {
     "data": {
      "text/plain": [
       "[<nats.js.client.JetStreamContext at 0x30de46250>,\n",
       " <nats.js.kv.KeyValue at 0x30de45a50>,\n",
       " <nats.js.object_store.ObjectStore at 0x30de45790>]"
      ]
     },
     "execution_count": 1,
     "metadata": {},
     "output_type": "execute_result"
    }
   ],
   "source": [
    "from magnet.base import Prism\n",
    "from magnet.base import EmbeddedCluster\n",
    "\n",
    "cluster = EmbeddedCluster()\n",
    "cluster.start()\n",
    "prism = cluster.create_prism()\n",
    "await prism.align()\n",
    "\n",
    "config = {\n",
    "    \"host\": \"127.0.0.1\",\n",
    "    \"credentials\": None,\n",
    "    \"domain\": None,\n",
    "    \"name\": \"my_stream\",\n",
    "    \"category\": \"my_category\",\n",
    "    \"kv_name\": \"my_kv\",\n",
    "    \"session\": \"my_session\",\n",
    "    \"os_name\": \"my_object_store\",\n",
    "    \"index\": {\n",
    "        \"milvus_uri\": \"127.0.0.1\",\n",
    "        \"milvus_port\": 19530,\n",
    "        \"milvus_user\": \"test\",\n",
    "        \"milvus_password\": \"test\",\n",
    "        \"dimension\": 1024,\n",
    "        \"model\": \"BAAI/bge-large-en-v1.5\",\n",
    "        \"name\": \"test\",\n",
    "        \"options\": {\n",
    "            'metric_type': 'COSINE',\n",
    "            'index_type':'HNSW',\n",
    "            'params': {\n",
    "                \"efConstruction\": 40\n",
    "                , \"M\": 48\n",
    "            }\n",
    "        }\n",
    "    }\n",
    "}\n",
    "\n",
    "prism = Prism(config)\n",
    "await prism.align()"
   ]
  },
  {
   "cell_type": "code",
   "execution_count": 2,
   "metadata": {},
   "outputs": [
    {
     "name": "stdout",
     "output_type": "stream",
     "text": [
      "\u001b[92m🌊 SUCCESS: created [my_category] on\n",
      "🛰️ stream: my_stream\u001b[0m\n",
      "\u001b[92m🌊 SUCCESS: ready [my_category] on\n",
      "🛰️ stream: my_stream\u001b[0m\n"
     ]
    }
   ],
   "source": [
    "from magnet.ic.field import Charge\n",
    "\n",
    "field = Charge(prism)\n",
    "await field.on()"
   ]
  },
  {
   "cell_type": "code",
   "execution_count": 3,
   "metadata": {},
   "outputs": [
    {
     "name": "stdout",
     "output_type": "stream",
     "text": [
      "\u001b[91m☠️ FATAL: invalid object, more info:\n",
      "asdict() should be called on dataclass instances in [Payload, GeneratedPayload, EmbeddingPayload, JobParams]\u001b[0m\n",
      "\u001b[91m☠️ FATAL: invalid object, more info:\n",
      "asdict() should be called on dataclass instances in [Payload, GeneratedPayload, EmbeddingPayload, JobParams]\u001b[0m\n"
     ]
    }
   ],
   "source": [
    "# you will get errors without abiding by schemas\n",
    "await field.pulse(\"Hello, World!\")\n",
    "await field.pulse({\"Hello\": \"World!\"})"
   ]
  },
  {
   "cell_type": "code",
   "execution_count": 4,
   "metadata": {},
   "outputs": [
    {
     "name": "stdout",
     "output_type": "stream",
     "text": [
      "\u001b[92m🌊 SUCCESS: pulsed to my_category on my_stream\u001b[0m\n",
      "\u001b[92m🌊 SUCCESS: pulsed to my_category on my_stream\u001b[0m\n",
      "2024-03-13 15:02:05.503442+00:00 2024-03-13 15:02:06.508971+00:00 2024-03-13 15:02:07.516146+00:00\n"
     ]
    },
    {
     "data": {
      "text/plain": [
       "(PubAck(stream='my_stream', seq=1, domain=None, duplicate=None),\n",
       " PubAck(stream='my_stream', seq=2, domain=None, duplicate=None),\n",
       " PubAck(stream='my_stream', seq=2, domain=None, duplicate=True))"
      ]
     },
     "execution_count": 4,
     "metadata": {},
     "output_type": "execute_result"
    }
   ],
   "source": [
    "# simple data pipelines with predictable outcomes\n",
    "from magnet.utils.data_classes import Payload\n",
    "from time import sleep\n",
    "no_log = await field.pulse(Payload(\"Hello\", \"World!\"))\n",
    "sleep(1)\n",
    "msg = await field.pulse(Payload(\"Hello\", \"World again!\"), True)\n",
    "sleep(1)\n",
    "duplicate = await field.pulse(Payload(\"Hello\", \"World again!\"), True) # will show as duplicate\n",
    "print(no_log.ts, msg.ts, duplicate.ts)\n",
    "(no_log, msg, duplicate)"
   ]
  },
  {
   "cell_type": "code",
   "execution_count": 5,
   "metadata": {},
   "outputs": [
    {
     "name": "stdout",
     "output_type": "stream",
     "text": [
      "\u001b[93m🚨 WARN: CUDA is not available on this machine.\u001b[0m\n",
      "\u001b[94mℹ️ INFO: loading into cpu\u001b[0m\n",
      "\u001b[96m☕️ WAIT: connecting to 127.0.0.1\u001b[0m\n",
      "\u001b[92m🌊 SUCCESS: connected successfully to 127.0.0.1\u001b[0m\n",
      "\u001b[92m🌊 SUCCESS: test created\u001b[0m\n",
      "\u001b[96m☕️ WAIT: loading test into memory, may take time\u001b[0m\n",
      "\u001b[93m🚨 WARN: disconnected from 127.0.0.1\u001b[0m\n"
     ]
    }
   ],
   "source": [
    "from magnet.ize.memory import Memory\n",
    "mem = Memory(prism)\n",
    "await mem.on(create=True)\n"
   ]
  },
  {
   "cell_type": "code",
   "execution_count": 6,
   "metadata": {},
   "outputs": [
    {
     "name": "stdout",
     "output_type": "stream",
     "text": [
      "\u001b[93m🚨 WARN: CUDA is not available on this machine.\u001b[0m\n",
      "\u001b[94mℹ️ INFO: loading into cpu\u001b[0m\n",
      "\u001b[96m☕️ WAIT: connecting to 127.0.0.1\u001b[0m\n",
      "\u001b[92m🌊 SUCCESS: connected successfully to 127.0.0.1\u001b[0m\n",
      "\u001b[96m☕️ WAIT: loading test into memory, may take time\u001b[0m\n",
      "\u001b[96m☕️ WAIT: connecting to 127.0.0.1\u001b[0m\n",
      "\u001b[94mℹ️ INFO: joined worker queue: my_session as unifi\u001b[0m\n",
      "\u001b[94mℹ️ INFO: consuming delta from [my_category] on\n",
      "🛰️ stream: my_stream\n",
      "🧲 session: \"my_session\"\u001b[0m\n",
      "\u001b[94mℹ️ INFO: encoding payload\n",
      "Payload(text='Hello', document='World!')\u001b[0m\n",
      "\u001b[94mℹ️ INFO: indexing payload\u001b[0m\n",
      "\u001b[92m🌊 SUCCESS: embedding indexed\n",
      "Payload(text='Hello', document='World!')\u001b[0m\n",
      "\u001b[94mℹ️ INFO: encoding payload\n",
      "Payload(text='Hello', document='World again!')\u001b[0m\n",
      "\u001b[94mℹ️ INFO: indexing payload\u001b[0m\n",
      "\u001b[91m☠️ FATAL: <MilvusException: (code=1, message=Field distances is not in the hit entity)>\u001b[0m\n"
     ]
    }
   ],
   "source": [
    "await mem.on()\n",
    "\n",
    "from magnet.ic.field import Resonator\n",
    "\n",
    "reso = Resonator(prism)\n",
    "\n",
    "async def handle_payload(payload, msg):\n",
    "    await mem.index(payload, msg, v=True)\n",
    "\n",
    "await reso.on()\n",
    "await reso.listen(cb=handle_payload)"
   ]
  },
  {
   "cell_type": "code",
   "execution_count": null,
   "metadata": {},
   "outputs": [
    {
     "data": {
      "text/plain": [
       "['test', 'bge_non_nlp']"
      ]
     },
     "execution_count": 7,
     "metadata": {},
     "output_type": "execute_result"
    }
   ],
   "source": [
    "mem.db.list_indices()\n",
    "await mem.disconnect()"
   ]
  }
 ],
 "metadata": {
  "kernelspec": {
   "display_name": "Python 3",
   "language": "python",
   "name": "python3"
  },
  "language_info": {
   "codemirror_mode": {
    "name": "ipython",
    "version": 3
   },
   "file_extension": ".py",
   "mimetype": "text/x-python",
   "name": "python",
   "nbconvert_exporter": "python",
   "pygments_lexer": "ipython3",
   "version": "3.11.8"
  }
 },
 "nbformat": 4,
 "nbformat_minor": 2
}
